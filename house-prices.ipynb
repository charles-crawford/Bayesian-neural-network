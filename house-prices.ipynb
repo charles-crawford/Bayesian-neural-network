{
 "cells": [
  {
   "cell_type": "markdown",
   "metadata": {},
   "source": [
    "### Imports"
   ]
  },
  {
   "cell_type": "code",
   "execution_count": 1,
   "metadata": {},
   "outputs": [],
   "source": [
    "import warnings\n",
    "warnings.simplefilter('ignore')"
   ]
  },
  {
   "cell_type": "code",
   "execution_count": 2,
   "metadata": {},
   "outputs": [
    {
     "name": "stderr",
     "output_type": "stream",
     "text": [
      "2022-12-19 21:37:21.723160: I tensorflow/core/platform/cpu_feature_guard.cc:193] This TensorFlow binary is optimized with oneAPI Deep Neural Network Library (oneDNN) to use the following CPU instructions in performance-critical operations:  AVX2 FMA\n",
      "To enable them in other operations, rebuild TensorFlow with the appropriate compiler flags.\n"
     ]
    }
   ],
   "source": [
    "import json\n",
    "import matplotlib.pyplot as plt\n",
    "import numpy as np\n",
    "import pandas as pd\n",
    "import seaborn as sns\n",
    "\n",
    "\n",
    "from sklearn.metrics import mean_squared_error, r2_score, mean_absolute_error\n",
    "from sklearn.preprocessing import StandardScaler\n",
    "from sklearn.model_selection import train_test_split\n",
    "from scipy.stats import pearsonr\n",
    "from utils.custom_loss import CustomLoss\n",
    "from utils.utils import get_preprocessor, get_tensors, run_experiment, plot_loss, load_saved_model\n",
    "\n",
    "sns.set_style('darkgrid')"
   ]
  },
  {
   "cell_type": "markdown",
   "metadata": {},
   "source": [
    "### Read in the data"
   ]
  },
  {
   "cell_type": "code",
   "execution_count": 3,
   "metadata": {},
   "outputs": [
    {
     "name": "stdout",
     "output_type": "stream",
     "text": [
      "shape: (1460, 78)\n"
     ]
    },
    {
     "data": {
      "text/html": [
       "<div>\n",
       "<style scoped>\n",
       "    .dataframe tbody tr th:only-of-type {\n",
       "        vertical-align: middle;\n",
       "    }\n",
       "\n",
       "    .dataframe tbody tr th {\n",
       "        vertical-align: top;\n",
       "    }\n",
       "\n",
       "    .dataframe thead th {\n",
       "        text-align: right;\n",
       "    }\n",
       "</style>\n",
       "<table border=\"1\" class=\"dataframe\">\n",
       "  <thead>\n",
       "    <tr style=\"text-align: right;\">\n",
       "      <th></th>\n",
       "      <th>MSSubClass</th>\n",
       "      <th>MSZoning</th>\n",
       "      <th>LotFrontage</th>\n",
       "      <th>LotArea</th>\n",
       "      <th>Street</th>\n",
       "      <th>Alley</th>\n",
       "      <th>LotShape</th>\n",
       "      <th>LandContour</th>\n",
       "      <th>LotConfig</th>\n",
       "      <th>LandSlope</th>\n",
       "      <th>...</th>\n",
       "      <th>ScreenPorch</th>\n",
       "      <th>PoolArea</th>\n",
       "      <th>PoolQC</th>\n",
       "      <th>Fence</th>\n",
       "      <th>MiscFeature</th>\n",
       "      <th>MiscVal</th>\n",
       "      <th>MoSold</th>\n",
       "      <th>YrSold</th>\n",
       "      <th>SaleType</th>\n",
       "      <th>SaleCondition</th>\n",
       "    </tr>\n",
       "    <tr>\n",
       "      <th>Id</th>\n",
       "      <th></th>\n",
       "      <th></th>\n",
       "      <th></th>\n",
       "      <th></th>\n",
       "      <th></th>\n",
       "      <th></th>\n",
       "      <th></th>\n",
       "      <th></th>\n",
       "      <th></th>\n",
       "      <th></th>\n",
       "      <th></th>\n",
       "      <th></th>\n",
       "      <th></th>\n",
       "      <th></th>\n",
       "      <th></th>\n",
       "      <th></th>\n",
       "      <th></th>\n",
       "      <th></th>\n",
       "      <th></th>\n",
       "      <th></th>\n",
       "      <th></th>\n",
       "    </tr>\n",
       "  </thead>\n",
       "  <tbody>\n",
       "    <tr>\n",
       "      <th>1</th>\n",
       "      <td>60</td>\n",
       "      <td>RL</td>\n",
       "      <td>65.0</td>\n",
       "      <td>8450</td>\n",
       "      <td>Pave</td>\n",
       "      <td>NaN</td>\n",
       "      <td>Reg</td>\n",
       "      <td>Lvl</td>\n",
       "      <td>Inside</td>\n",
       "      <td>Gtl</td>\n",
       "      <td>...</td>\n",
       "      <td>0</td>\n",
       "      <td>0</td>\n",
       "      <td>NaN</td>\n",
       "      <td>NaN</td>\n",
       "      <td>NaN</td>\n",
       "      <td>0</td>\n",
       "      <td>2</td>\n",
       "      <td>2008</td>\n",
       "      <td>WD</td>\n",
       "      <td>Normal</td>\n",
       "    </tr>\n",
       "    <tr>\n",
       "      <th>2</th>\n",
       "      <td>20</td>\n",
       "      <td>RL</td>\n",
       "      <td>80.0</td>\n",
       "      <td>9600</td>\n",
       "      <td>Pave</td>\n",
       "      <td>NaN</td>\n",
       "      <td>Reg</td>\n",
       "      <td>Lvl</td>\n",
       "      <td>FR2</td>\n",
       "      <td>Gtl</td>\n",
       "      <td>...</td>\n",
       "      <td>0</td>\n",
       "      <td>0</td>\n",
       "      <td>NaN</td>\n",
       "      <td>NaN</td>\n",
       "      <td>NaN</td>\n",
       "      <td>0</td>\n",
       "      <td>5</td>\n",
       "      <td>2007</td>\n",
       "      <td>WD</td>\n",
       "      <td>Normal</td>\n",
       "    </tr>\n",
       "    <tr>\n",
       "      <th>3</th>\n",
       "      <td>60</td>\n",
       "      <td>RL</td>\n",
       "      <td>68.0</td>\n",
       "      <td>11250</td>\n",
       "      <td>Pave</td>\n",
       "      <td>NaN</td>\n",
       "      <td>IR1</td>\n",
       "      <td>Lvl</td>\n",
       "      <td>Inside</td>\n",
       "      <td>Gtl</td>\n",
       "      <td>...</td>\n",
       "      <td>0</td>\n",
       "      <td>0</td>\n",
       "      <td>NaN</td>\n",
       "      <td>NaN</td>\n",
       "      <td>NaN</td>\n",
       "      <td>0</td>\n",
       "      <td>9</td>\n",
       "      <td>2008</td>\n",
       "      <td>WD</td>\n",
       "      <td>Normal</td>\n",
       "    </tr>\n",
       "    <tr>\n",
       "      <th>4</th>\n",
       "      <td>70</td>\n",
       "      <td>RL</td>\n",
       "      <td>60.0</td>\n",
       "      <td>9550</td>\n",
       "      <td>Pave</td>\n",
       "      <td>NaN</td>\n",
       "      <td>IR1</td>\n",
       "      <td>Lvl</td>\n",
       "      <td>Corner</td>\n",
       "      <td>Gtl</td>\n",
       "      <td>...</td>\n",
       "      <td>0</td>\n",
       "      <td>0</td>\n",
       "      <td>NaN</td>\n",
       "      <td>NaN</td>\n",
       "      <td>NaN</td>\n",
       "      <td>0</td>\n",
       "      <td>2</td>\n",
       "      <td>2006</td>\n",
       "      <td>WD</td>\n",
       "      <td>Abnorml</td>\n",
       "    </tr>\n",
       "    <tr>\n",
       "      <th>5</th>\n",
       "      <td>60</td>\n",
       "      <td>RL</td>\n",
       "      <td>84.0</td>\n",
       "      <td>14260</td>\n",
       "      <td>Pave</td>\n",
       "      <td>NaN</td>\n",
       "      <td>IR1</td>\n",
       "      <td>Lvl</td>\n",
       "      <td>FR2</td>\n",
       "      <td>Gtl</td>\n",
       "      <td>...</td>\n",
       "      <td>0</td>\n",
       "      <td>0</td>\n",
       "      <td>NaN</td>\n",
       "      <td>NaN</td>\n",
       "      <td>NaN</td>\n",
       "      <td>0</td>\n",
       "      <td>12</td>\n",
       "      <td>2008</td>\n",
       "      <td>WD</td>\n",
       "      <td>Normal</td>\n",
       "    </tr>\n",
       "  </tbody>\n",
       "</table>\n",
       "<p>5 rows × 78 columns</p>\n",
       "</div>"
      ],
      "text/plain": [
       "    MSSubClass MSZoning  LotFrontage  LotArea Street Alley LotShape  \\\n",
       "Id                                                                    \n",
       "1           60       RL         65.0     8450   Pave   NaN      Reg   \n",
       "2           20       RL         80.0     9600   Pave   NaN      Reg   \n",
       "3           60       RL         68.0    11250   Pave   NaN      IR1   \n",
       "4           70       RL         60.0     9550   Pave   NaN      IR1   \n",
       "5           60       RL         84.0    14260   Pave   NaN      IR1   \n",
       "\n",
       "   LandContour LotConfig LandSlope  ... ScreenPorch PoolArea PoolQC Fence  \\\n",
       "Id                                  ...                                     \n",
       "1          Lvl    Inside       Gtl  ...           0        0    NaN   NaN   \n",
       "2          Lvl       FR2       Gtl  ...           0        0    NaN   NaN   \n",
       "3          Lvl    Inside       Gtl  ...           0        0    NaN   NaN   \n",
       "4          Lvl    Corner       Gtl  ...           0        0    NaN   NaN   \n",
       "5          Lvl       FR2       Gtl  ...           0        0    NaN   NaN   \n",
       "\n",
       "   MiscFeature  MiscVal  MoSold  YrSold  SaleType SaleCondition  \n",
       "Id                                                               \n",
       "1          NaN        0       2    2008        WD        Normal  \n",
       "2          NaN        0       5    2007        WD        Normal  \n",
       "3          NaN        0       9    2008        WD        Normal  \n",
       "4          NaN        0       2    2006        WD       Abnorml  \n",
       "5          NaN        0      12    2008        WD        Normal  \n",
       "\n",
       "[5 rows x 78 columns]"
      ]
     },
     "execution_count": 3,
     "metadata": {},
     "output_type": "execute_result"
    }
   ],
   "source": [
    "df = pd.read_csv('house-prices-data/train.csv', index_col=0)\n",
    "target_col = 'SalePrice'\n",
    "y = df[target_col]\n",
    "\n",
    "cols_to_drop = ['Utilities', target_col]\n",
    "df.drop(cols_to_drop, inplace=True, axis=1)\n",
    "\n",
    "print('shape:', df.shape)\n",
    "df.head()"
   ]
  },
  {
   "cell_type": "markdown",
   "metadata": {},
   "source": [
    "### Split into train and test sets"
   ]
  },
  {
   "cell_type": "code",
   "execution_count": 4,
   "metadata": {},
   "outputs": [],
   "source": [
    "X_train, X_test, y_train, y_test = train_test_split(df, y, test_size=0.1, random_state=101)"
   ]
  },
  {
   "cell_type": "markdown",
   "metadata": {},
   "source": [
    "### Instantiate the column transformer and transform the training data"
   ]
  },
  {
   "cell_type": "code",
   "execution_count": 5,
   "metadata": {},
   "outputs": [
    {
     "name": "stdout",
     "output_type": "stream",
     "text": [
      "shape: (1314, 260)\n"
     ]
    }
   ],
   "source": [
    "# The processing here is just converting to numerical values. \n",
    "# Predictions can be made better by feature engineering.\n",
    "col_transformer = get_preprocessor('yeo-johnson')\n",
    "\n",
    "X_train = col_transformer.fit_transform(X_train)\n",
    "X_train = X_train\n",
    "n_rows, n_cols = X_train.shape\n",
    "features = [f'col_{i}' for i in range(n_cols)]\n",
    "X_train = pd.DataFrame(X_train, columns=features)\n",
    "print('shape:', X_train.shape)\n",
    "\n",
    "y_train_scaler = StandardScaler()\n",
    "y_train = y_train_scaler.fit_transform(y_train.values.reshape(-1, 1)).flatten()\n",
    "X_train[target_col] = y_train"
   ]
  },
  {
   "cell_type": "markdown",
   "metadata": {},
   "source": [
    "### Transform test data\n",
    "To avoid leakage, the col_transformer fit on the training data is used to transform the test data as well. "
   ]
  },
  {
   "cell_type": "code",
   "execution_count": 6,
   "metadata": {},
   "outputs": [
    {
     "name": "stdout",
     "output_type": "stream",
     "text": [
      "shape: (146, 260)\n"
     ]
    }
   ],
   "source": [
    "X_test = col_transformer.transform(X_test)\n",
    "X_test = X_test\n",
    "n_rows, n_cols = X_test.shape\n",
    "X_test = pd.DataFrame(X_test, columns=features)\n",
    "print('shape:', X_test.shape)\n",
    "\n",
    "y_test_scaler = StandardScaler()\n",
    "y_test = y_test_scaler.fit_transform(y_test.values.reshape(-1, 1)).flatten()\n",
    "X_test[target_col] = y_test"
   ]
  },
  {
   "cell_type": "markdown",
   "metadata": {},
   "source": [
    "### Read in the results from the hyperparameter search"
   ]
  },
  {
   "cell_type": "code",
   "execution_count": 7,
   "metadata": {},
   "outputs": [
    {
     "data": {
      "text/html": [
       "<div>\n",
       "<style scoped>\n",
       "    .dataframe tbody tr th:only-of-type {\n",
       "        vertical-align: middle;\n",
       "    }\n",
       "\n",
       "    .dataframe tbody tr th {\n",
       "        vertical-align: top;\n",
       "    }\n",
       "\n",
       "    .dataframe thead th {\n",
       "        text-align: right;\n",
       "    }\n",
       "</style>\n",
       "<table border=\"1\" class=\"dataframe\">\n",
       "  <thead>\n",
       "    <tr style=\"text-align: right;\">\n",
       "      <th></th>\n",
       "      <th>run_id</th>\n",
       "      <th>val_pearson</th>\n",
       "      <th>val_mse</th>\n",
       "      <th>params</th>\n",
       "    </tr>\n",
       "  </thead>\n",
       "  <tbody>\n",
       "    <tr>\n",
       "      <th>387</th>\n",
       "      <td>run_387_0</td>\n",
       "      <td>-1.000000</td>\n",
       "      <td>380.275909</td>\n",
       "      <td>{\"n_layers\": 2, \"n_units\": 13, \"learning_rate\"...</td>\n",
       "    </tr>\n",
       "    <tr>\n",
       "      <th>126</th>\n",
       "      <td>run_126_0</td>\n",
       "      <td>-1.000000</td>\n",
       "      <td>5010.564941</td>\n",
       "      <td>{\"n_layers\": 2, \"n_units\": 169, \"learning_rate...</td>\n",
       "    </tr>\n",
       "    <tr>\n",
       "      <th>111</th>\n",
       "      <td>run_111_0</td>\n",
       "      <td>-1.000000</td>\n",
       "      <td>11734.695312</td>\n",
       "      <td>{\"n_layers\": 1, \"n_units\": 227, \"learning_rate...</td>\n",
       "    </tr>\n",
       "    <tr>\n",
       "      <th>157</th>\n",
       "      <td>run_157_0</td>\n",
       "      <td>-0.933513</td>\n",
       "      <td>0.140324</td>\n",
       "      <td>{\"n_layers\": 1, \"n_units\": 338, \"learning_rate...</td>\n",
       "    </tr>\n",
       "    <tr>\n",
       "      <th>270</th>\n",
       "      <td>run_270_0</td>\n",
       "      <td>-0.932662</td>\n",
       "      <td>0.152127</td>\n",
       "      <td>{\"n_layers\": 2, \"n_units\": 493, \"learning_rate...</td>\n",
       "    </tr>\n",
       "  </tbody>\n",
       "</table>\n",
       "</div>"
      ],
      "text/plain": [
       "        run_id  val_pearson       val_mse  \\\n",
       "387  run_387_0    -1.000000    380.275909   \n",
       "126  run_126_0    -1.000000   5010.564941   \n",
       "111  run_111_0    -1.000000  11734.695312   \n",
       "157  run_157_0    -0.933513      0.140324   \n",
       "270  run_270_0    -0.932662      0.152127   \n",
       "\n",
       "                                                params  \n",
       "387  {\"n_layers\": 2, \"n_units\": 13, \"learning_rate\"...  \n",
       "126  {\"n_layers\": 2, \"n_units\": 169, \"learning_rate...  \n",
       "111  {\"n_layers\": 1, \"n_units\": 227, \"learning_rate...  \n",
       "157  {\"n_layers\": 1, \"n_units\": 338, \"learning_rate...  \n",
       "270  {\"n_layers\": 2, \"n_units\": 493, \"learning_rate...  "
      ]
     },
     "execution_count": 7,
     "metadata": {},
     "output_type": "execute_result"
    }
   ],
   "source": [
    "# The search results are written with a timestamp, enter your results file name here.\n",
    "search_results_file = 'search-results-2022-12-16-15-05-22.csv'\n",
    "df_results = pd.read_csv(search_results_file, index_col=0)\n",
    "df_results.sort_values('val_pearson', inplace=True)\n",
    "df_results.head()"
   ]
  },
  {
   "cell_type": "markdown",
   "metadata": {},
   "source": [
    "Looking at the first 3 rows, the best correlations are the top 3. However, there is a high correlation with much lower mse at index 157 and 270."
   ]
  },
  {
   "cell_type": "code",
   "execution_count": 8,
   "metadata": {},
   "outputs": [
    {
     "data": {
      "text/plain": [
       "{'n_layers': 2,\n",
       " 'n_units': 493,\n",
       " 'learning_rate': 0.02096530185407847,\n",
       " 'activation': 'sigmoid',\n",
       " 'dropout': 0.11336407649504665,\n",
       " 'batchsize': 210}"
      ]
     },
     "execution_count": 8,
     "metadata": {},
     "output_type": "execute_result"
    }
   ],
   "source": [
    "best_params = json.loads(df_results.loc[270, 'params'])\n",
    "best_params"
   ]
  },
  {
   "cell_type": "markdown",
   "metadata": {},
   "source": [
    "### Create the TensorFlow train and test datasets"
   ]
  },
  {
   "cell_type": "code",
   "execution_count": 9,
   "metadata": {},
   "outputs": [
    {
     "name": "stderr",
     "output_type": "stream",
     "text": [
      "2022-12-19 21:37:28.231698: I tensorflow/core/platform/cpu_feature_guard.cc:193] This TensorFlow binary is optimized with oneAPI Deep Neural Network Library (oneDNN) to use the following CPU instructions in performance-critical operations:  AVX2 FMA\n",
      "To enable them in other operations, rebuild TensorFlow with the appropriate compiler flags.\n"
     ]
    }
   ],
   "source": [
    "batchsize = best_params['batchsize']\n",
    "train_dataset = get_tensors(X_train, features, target_col, batchsize=batchsize)\n",
    "test_dataset = get_tensors(X_test, features, target_col, batchsize=batchsize)"
   ]
  },
  {
   "cell_type": "markdown",
   "metadata": {},
   "source": [
    "### Using the CustomLoss class and the best params from the search, build the model and run the training"
   ]
  },
  {
   "cell_type": "code",
   "execution_count": 10,
   "metadata": {
    "scrolled": true
   },
   "outputs": [
    {
     "name": "stdout",
     "output_type": "stream",
     "text": [
      "WARNING:tensorflow:Please fix your imports. Module tensorflow.python.training.tracking.data_structures has been moved to tensorflow.python.trackable.data_structures. The old module will be deleted in version 2.11.\n",
      "Start training the model...\n",
      "Epoch 1/2000\n",
      "7/7 [==============================] - 3s 131ms/step - loss: 748749824.0000 - pearson: 0.1279 - mean_squared_error: 76.0542 - val_loss: 119289728.0000 - val_pearson: 0.0452 - val_mean_squared_error: 12.0336\n",
      "Epoch 2/2000\n",
      "7/7 [==============================] - 0s 29ms/step - loss: 52540452.0000 - pearson: -0.0330 - mean_squared_error: 5.1680 - val_loss: 20872458.0000 - val_pearson: -0.4314 - val_mean_squared_error: 1.9887\n",
      "Epoch 3/2000\n",
      "7/7 [==============================] - 0s 26ms/step - loss: 20266888.0000 - pearson: -0.2351 - mean_squared_error: 1.9338 - val_loss: 10774756.0000 - val_pearson: -0.0919 - val_mean_squared_error: 1.0631\n",
      "Epoch 4/2000\n",
      "7/7 [==============================] - 0s 29ms/step - loss: 12647069.0000 - pearson: -0.1491 - mean_squared_error: 1.2126 - val_loss: 11311774.0000 - val_pearson: -0.5111 - val_mean_squared_error: 1.0423\n",
      "Epoch 5/2000\n",
      "7/7 [==============================] - 0s 25ms/step - loss: 11274119.0000 - pearson: -0.2073 - mean_squared_error: 1.0361 - val_loss: 11564618.0000 - val_pearson: -0.2634 - val_mean_squared_error: 1.0684\n",
      "Epoch 6/2000\n",
      "7/7 [==============================] - 0s 28ms/step - loss: 11160387.0000 - pearson: -0.2290 - mean_squared_error: 1.0297 - val_loss: 10394205.0000 - val_pearson: -0.7107 - val_mean_squared_error: 0.9558\n",
      "Epoch 7/2000\n",
      "7/7 [==============================] - 0s 25ms/step - loss: 10002419.0000 - pearson: -0.6538 - mean_squared_error: 0.9154 - val_loss: 9336070.0000 - val_pearson: -0.7826 - val_mean_squared_error: 0.8515\n",
      "Epoch 8/2000\n",
      "7/7 [==============================] - 0s 23ms/step - loss: 9315746.0000 - pearson: -0.6789 - mean_squared_error: 0.8480 - val_loss: 8479999.0000 - val_pearson: -0.7463 - val_mean_squared_error: 0.7643\n",
      "Epoch 9/2000\n",
      "7/7 [==============================] - 0s 22ms/step - loss: 8270712.5000 - pearson: -0.7263 - mean_squared_error: 0.7424 - val_loss: 7568153.5000 - val_pearson: -0.7758 - val_mean_squared_error: 0.6802\n",
      "Epoch 10/2000\n",
      "7/7 [==============================] - 0s 23ms/step - loss: 7612120.5000 - pearson: -0.6990 - mean_squared_error: 0.6775 - val_loss: 6752345.5000 - val_pearson: -0.7731 - val_mean_squared_error: 0.5925\n",
      "Epoch 11/2000\n",
      "7/7 [==============================] - 0s 22ms/step - loss: 6791485.0000 - pearson: -0.7392 - mean_squared_error: 0.6003 - val_loss: 6221605.5000 - val_pearson: -0.7814 - val_mean_squared_error: 0.5486\n",
      "Epoch 12/2000\n",
      "7/7 [==============================] - 0s 26ms/step - loss: 6176598.5000 - pearson: -0.7550 - mean_squared_error: 0.5348 - val_loss: 5471745.5000 - val_pearson: -0.8000 - val_mean_squared_error: 0.4791\n",
      "Epoch 13/2000\n",
      "7/7 [==============================] - 0s 25ms/step - loss: 5629180.5000 - pearson: -0.8298 - mean_squared_error: 0.4847 - val_loss: 4747151.0000 - val_pearson: -0.8518 - val_mean_squared_error: 0.3976\n",
      "Epoch 14/2000\n",
      "7/7 [==============================] - 0s 25ms/step - loss: 5046794.5000 - pearson: -0.7973 - mean_squared_error: 0.4247 - val_loss: 4274129.5000 - val_pearson: -0.8544 - val_mean_squared_error: 0.3474\n",
      "Epoch 15/2000\n",
      "7/7 [==============================] - 0s 25ms/step - loss: 4641937.0000 - pearson: -0.8432 - mean_squared_error: 0.3886 - val_loss: 3794144.0000 - val_pearson: -0.8885 - val_mean_squared_error: 0.2944\n",
      "Epoch 16/2000\n",
      "7/7 [==============================] - 0s 25ms/step - loss: 4271426.0000 - pearson: -0.8815 - mean_squared_error: 0.3502 - val_loss: 3624064.2500 - val_pearson: -0.8986 - val_mean_squared_error: 0.2860\n",
      "Epoch 17/2000\n",
      "7/7 [==============================] - 0s 25ms/step - loss: 4144980.2500 - pearson: -0.8642 - mean_squared_error: 0.3378 - val_loss: 3631273.5000 - val_pearson: -0.9136 - val_mean_squared_error: 0.2859\n",
      "Epoch 18/2000\n",
      "7/7 [==============================] - 0s 25ms/step - loss: 3878421.0000 - pearson: -0.8849 - mean_squared_error: 0.3124 - val_loss: 3323938.2500 - val_pearson: -0.9228 - val_mean_squared_error: 0.2541\n",
      "Epoch 19/2000\n",
      "7/7 [==============================] - 0s 25ms/step - loss: 3768163.7500 - pearson: -0.9146 - mean_squared_error: 0.3023 - val_loss: 3183272.5000 - val_pearson: -0.9271 - val_mean_squared_error: 0.2446\n",
      "Epoch 20/2000\n",
      "7/7 [==============================] - 0s 25ms/step - loss: 3762813.0000 - pearson: -0.8770 - mean_squared_error: 0.3013 - val_loss: 3594437.5000 - val_pearson: -0.9278 - val_mean_squared_error: 0.2849\n",
      "Epoch 21/2000\n",
      "7/7 [==============================] - 0s 25ms/step - loss: 3592411.0000 - pearson: -0.9008 - mean_squared_error: 0.2859 - val_loss: 3142666.0000 - val_pearson: -0.9328 - val_mean_squared_error: 0.2395\n",
      "Epoch 22/2000\n",
      "7/7 [==============================] - 0s 23ms/step - loss: 3609003.0000 - pearson: -0.8867 - mean_squared_error: 0.2873 - val_loss: 2864259.5000 - val_pearson: -0.9266 - val_mean_squared_error: 0.2146\n",
      "Epoch 23/2000\n",
      "7/7 [==============================] - 0s 25ms/step - loss: 3403446.7500 - pearson: -0.9221 - mean_squared_error: 0.2683 - val_loss: 2437929.2500 - val_pearson: -0.9338 - val_mean_squared_error: 0.1711\n",
      "Epoch 24/2000\n",
      "7/7 [==============================] - 0s 23ms/step - loss: 3315057.0000 - pearson: -0.9211 - mean_squared_error: 0.2598 - val_loss: 2296045.0000 - val_pearson: -0.9257 - val_mean_squared_error: 0.1566\n",
      "Epoch 25/2000\n",
      "7/7 [==============================] - 0s 23ms/step - loss: 3236599.5000 - pearson: -0.9094 - mean_squared_error: 0.2520 - val_loss: 2464943.5000 - val_pearson: -0.9334 - val_mean_squared_error: 0.1753\n",
      "Epoch 26/2000\n",
      "7/7 [==============================] - 0s 23ms/step - loss: 3184206.0000 - pearson: -0.8983 - mean_squared_error: 0.2483 - val_loss: 2343918.0000 - val_pearson: -0.9310 - val_mean_squared_error: 0.1631\n",
      "Epoch 27/2000\n",
      "7/7 [==============================] - 0s 26ms/step - loss: 3026777.7500 - pearson: -0.9221 - mean_squared_error: 0.2298 - val_loss: 2270739.7500 - val_pearson: -0.9384 - val_mean_squared_error: 0.1535\n",
      "Epoch 28/2000\n",
      "7/7 [==============================] - 0s 23ms/step - loss: 2912690.0000 - pearson: -0.9348 - mean_squared_error: 0.2229 - val_loss: 2332042.0000 - val_pearson: -0.9363 - val_mean_squared_error: 0.1624\n",
      "Epoch 29/2000\n",
      "7/7 [==============================] - 0s 25ms/step - loss: 2823820.2500 - pearson: -0.9069 - mean_squared_error: 0.2124 - val_loss: 2322369.5000 - val_pearson: -0.9406 - val_mean_squared_error: 0.1619\n",
      "Epoch 30/2000\n",
      "7/7 [==============================] - 0s 23ms/step - loss: 2886272.0000 - pearson: -0.9257 - mean_squared_error: 0.2208 - val_loss: 2122962.5000 - val_pearson: -0.9365 - val_mean_squared_error: 0.1422\n",
      "Epoch 31/2000\n",
      "7/7 [==============================] - 0s 22ms/step - loss: 2833607.0000 - pearson: -0.9175 - mean_squared_error: 0.2154 - val_loss: 2153457.0000 - val_pearson: -0.9398 - val_mean_squared_error: 0.1462\n",
      "Epoch 32/2000\n",
      "7/7 [==============================] - 0s 26ms/step - loss: 2731246.2500 - pearson: -0.9275 - mean_squared_error: 0.2054 - val_loss: 2028400.5000 - val_pearson: -0.9433 - val_mean_squared_error: 0.1346\n",
      "Epoch 33/2000\n",
      "7/7 [==============================] - 0s 23ms/step - loss: 2817685.0000 - pearson: -0.9161 - mean_squared_error: 0.2159 - val_loss: 2010469.0000 - val_pearson: -0.9364 - val_mean_squared_error: 0.1362\n",
      "Epoch 34/2000\n",
      "7/7 [==============================] - 0s 26ms/step - loss: 2743775.7500 - pearson: -0.9298 - mean_squared_error: 0.2078 - val_loss: 2096850.3750 - val_pearson: -0.9463 - val_mean_squared_error: 0.1420\n",
      "Epoch 35/2000\n",
      "7/7 [==============================] - 0s 22ms/step - loss: 2749217.7500 - pearson: -0.9264 - mean_squared_error: 0.2090 - val_loss: 1890731.8750 - val_pearson: -0.9435 - val_mean_squared_error: 0.1215\n",
      "Epoch 36/2000\n",
      "7/7 [==============================] - 0s 23ms/step - loss: 2708080.5000 - pearson: -0.9318 - mean_squared_error: 0.2057 - val_loss: 1912791.2500 - val_pearson: -0.9407 - val_mean_squared_error: 0.1249\n",
      "Epoch 37/2000\n",
      "7/7 [==============================] - 0s 24ms/step - loss: 2535713.0000 - pearson: -0.9276 - mean_squared_error: 0.1882 - val_loss: 1998281.8750 - val_pearson: -0.9447 - val_mean_squared_error: 0.1335\n"
     ]
    },
    {
     "name": "stdout",
     "output_type": "stream",
     "text": [
      "Epoch 38/2000\n",
      "7/7 [==============================] - 0s 23ms/step - loss: 2485250.0000 - pearson: -0.9417 - mean_squared_error: 0.1839 - val_loss: 1871672.1250 - val_pearson: -0.9430 - val_mean_squared_error: 0.1229\n",
      "Epoch 39/2000\n",
      "7/7 [==============================] - 0s 22ms/step - loss: 2466997.0000 - pearson: -0.9569 - mean_squared_error: 0.1825 - val_loss: 1963911.2500 - val_pearson: -0.9384 - val_mean_squared_error: 0.1313\n",
      "Epoch 40/2000\n",
      "7/7 [==============================] - 0s 22ms/step - loss: 2500292.5000 - pearson: -0.9555 - mean_squared_error: 0.1873 - val_loss: 2058927.7500 - val_pearson: -0.9431 - val_mean_squared_error: 0.1417\n",
      "Epoch 41/2000\n",
      "7/7 [==============================] - 0s 23ms/step - loss: 2535925.5000 - pearson: -0.9258 - mean_squared_error: 0.1902 - val_loss: 1950623.7500 - val_pearson: -0.9379 - val_mean_squared_error: 0.1351\n",
      "Epoch 42/2000\n",
      "7/7 [==============================] - 0s 22ms/step - loss: 2496478.7500 - pearson: -0.9444 - mean_squared_error: 0.1844 - val_loss: 2006410.7500 - val_pearson: -0.9455 - val_mean_squared_error: 0.1381\n",
      "Epoch 43/2000\n",
      "7/7 [==============================] - 0s 27ms/step - loss: 2496333.2500 - pearson: -0.9356 - mean_squared_error: 0.1860 - val_loss: 1914430.8750 - val_pearson: -0.9465 - val_mean_squared_error: 0.1224\n",
      "Epoch 44/2000\n",
      "7/7 [==============================] - 0s 23ms/step - loss: 2549908.0000 - pearson: -0.9512 - mean_squared_error: 0.1947 - val_loss: 1812880.0000 - val_pearson: -0.9421 - val_mean_squared_error: 0.1176\n",
      "Epoch 45/2000\n",
      "7/7 [==============================] - 0s 23ms/step - loss: 2367542.7500 - pearson: -0.9356 - mean_squared_error: 0.1751 - val_loss: 1946437.8750 - val_pearson: -0.9416 - val_mean_squared_error: 0.1327\n",
      "Epoch 46/2000\n",
      "7/7 [==============================] - 0s 23ms/step - loss: 2399927.5000 - pearson: -0.9437 - mean_squared_error: 0.1783 - val_loss: 1980332.8750 - val_pearson: -0.9459 - val_mean_squared_error: 0.1385\n",
      "Epoch 47/2000\n",
      "7/7 [==============================] - 0s 23ms/step - loss: 2242312.5000 - pearson: -0.9507 - mean_squared_error: 0.1635 - val_loss: 1940146.2500 - val_pearson: -0.9453 - val_mean_squared_error: 0.1315\n",
      "Epoch 48/2000\n",
      "7/7 [==============================] - 0s 26ms/step - loss: 2325275.7500 - pearson: -0.9448 - mean_squared_error: 0.1710 - val_loss: 1958268.7500 - val_pearson: -0.9470 - val_mean_squared_error: 0.1338\n",
      "Epoch 49/2000\n",
      "7/7 [==============================] - 0s 22ms/step - loss: 2267631.0000 - pearson: -0.9530 - mean_squared_error: 0.1679 - val_loss: 1948178.2500 - val_pearson: -0.9469 - val_mean_squared_error: 0.1336\n",
      "Epoch 50/2000\n",
      "7/7 [==============================] - 0s 21ms/step - loss: 2231817.7500 - pearson: -0.9543 - mean_squared_error: 0.1631 - val_loss: 2023921.1250 - val_pearson: -0.9451 - val_mean_squared_error: 0.1432\n",
      "Epoch 51/2000\n",
      "7/7 [==============================] - 0s 22ms/step - loss: 2115514.7500 - pearson: -0.9540 - mean_squared_error: 0.1520 - val_loss: 2470769.7500 - val_pearson: -0.9443 - val_mean_squared_error: 0.1903\n",
      "Epoch 52/2000\n",
      "7/7 [==============================] - 0s 22ms/step - loss: 2287288.7500 - pearson: -0.9395 - mean_squared_error: 0.1693 - val_loss: 2242365.7500 - val_pearson: -0.9437 - val_mean_squared_error: 0.1664\n",
      "Epoch 53/2000\n",
      "7/7 [==============================] - 0s 26ms/step - loss: 2221147.2500 - pearson: -0.9390 - mean_squared_error: 0.1636 - val_loss: 2145479.0000 - val_pearson: -0.9471 - val_mean_squared_error: 0.1587\n",
      "Epoch 54/2000\n",
      "7/7 [==============================] - 0s 22ms/step - loss: 2294038.2500 - pearson: -0.9523 - mean_squared_error: 0.1701 - val_loss: 2304563.5000 - val_pearson: -0.9422 - val_mean_squared_error: 0.1820\n",
      "Epoch 55/2000\n",
      "7/7 [==============================] - 0s 23ms/step - loss: 2201405.5000 - pearson: -0.9632 - mean_squared_error: 0.1625 - val_loss: 2209292.2500 - val_pearson: -0.9455 - val_mean_squared_error: 0.1620\n",
      "Epoch 56/2000\n",
      "7/7 [==============================] - 0s 22ms/step - loss: 2316704.2500 - pearson: -0.9558 - mean_squared_error: 0.1759 - val_loss: 2201763.7500 - val_pearson: -0.9451 - val_mean_squared_error: 0.1660\n",
      "Epoch 57/2000\n",
      "7/7 [==============================] - 0s 23ms/step - loss: 2697196.7500 - pearson: -0.9747 - mean_squared_error: 0.2127 - val_loss: 1909661.1250 - val_pearson: -0.9429 - val_mean_squared_error: 0.1351\n",
      "Epoch 58/2000\n",
      "7/7 [==============================] - 0s 22ms/step - loss: 2426265.0000 - pearson: -0.9540 - mean_squared_error: 0.1867 - val_loss: 2035535.5000 - val_pearson: -0.9441 - val_mean_squared_error: 0.1461\n",
      "Epoch 59/2000\n",
      "7/7 [==============================] - 0s 22ms/step - loss: 2424452.0000 - pearson: -0.9621 - mean_squared_error: 0.1881 - val_loss: 1750096.0000 - val_pearson: -0.9411 - val_mean_squared_error: 0.1205\n",
      "Epoch 60/2000\n",
      "7/7 [==============================] - 0s 23ms/step - loss: 2174840.2500 - pearson: -0.9490 - mean_squared_error: 0.1621 - val_loss: 1914151.5000 - val_pearson: -0.9398 - val_mean_squared_error: 0.1395\n",
      "Epoch 61/2000\n",
      "7/7 [==============================] - 0s 23ms/step - loss: 2273350.7500 - pearson: -0.9642 - mean_squared_error: 0.1710 - val_loss: 2177891.2500 - val_pearson: -0.9426 - val_mean_squared_error: 0.1670\n",
      "Epoch 62/2000\n",
      "7/7 [==============================] - 0s 22ms/step - loss: 2428399.0000 - pearson: -0.9637 - mean_squared_error: 0.1876 - val_loss: 2194176.5000 - val_pearson: -0.9453 - val_mean_squared_error: 0.1647\n",
      "Epoch 63/2000\n",
      "7/7 [==============================] - 0s 23ms/step - loss: 2216118.2500 - pearson: -0.9602 - mean_squared_error: 0.1674 - val_loss: 1991148.8750 - val_pearson: -0.9425 - val_mean_squared_error: 0.1440\n",
      "Epoch 64/2000\n",
      "7/7 [==============================] - 0s 23ms/step - loss: 2254329.7500 - pearson: -0.9459 - mean_squared_error: 0.1710 - val_loss: 1845463.6250 - val_pearson: -0.9424 - val_mean_squared_error: 0.1349\n",
      "Epoch 65/2000\n",
      "7/7 [==============================] - 0s 24ms/step - loss: 2028688.3750 - pearson: -0.9508 - mean_squared_error: 0.1511 - val_loss: 1760070.0000 - val_pearson: -0.9427 - val_mean_squared_error: 0.1219\n",
      "Epoch 66/2000\n",
      "7/7 [==============================] - 0s 24ms/step - loss: 1881715.5000 - pearson: -0.9734 - mean_squared_error: 0.1351 - val_loss: 1904901.2500 - val_pearson: -0.9446 - val_mean_squared_error: 0.1363\n",
      "Epoch 67/2000\n",
      "7/7 [==============================] - 0s 23ms/step - loss: 1869441.1250 - pearson: -0.9699 - mean_squared_error: 0.1341 - val_loss: 2382860.0000 - val_pearson: -0.9380 - val_mean_squared_error: 0.1908\n",
      "Epoch 68/2000\n",
      "7/7 [==============================] - 0s 23ms/step - loss: 1773556.1250 - pearson: -0.9616 - mean_squared_error: 0.1256 - val_loss: 2082862.0000 - val_pearson: -0.9451 - val_mean_squared_error: 0.1519\n",
      "Epoch 69/2000\n",
      "7/7 [==============================] - 0s 23ms/step - loss: 1846089.6250 - pearson: -0.9693 - mean_squared_error: 0.1317 - val_loss: 1820861.2500 - val_pearson: -0.9405 - val_mean_squared_error: 0.1305\n",
      "Epoch 70/2000\n",
      "7/7 [==============================] - 0s 23ms/step - loss: 1696343.6250 - pearson: -0.9696 - mean_squared_error: 0.1181 - val_loss: 1661727.8750 - val_pearson: -0.9451 - val_mean_squared_error: 0.1145\n",
      "Epoch 71/2000\n",
      "7/7 [==============================] - 0s 23ms/step - loss: 1650236.7500 - pearson: -0.9628 - mean_squared_error: 0.1137 - val_loss: 1923652.3750 - val_pearson: -0.9443 - val_mean_squared_error: 0.1432\n",
      "Epoch 72/2000\n",
      "7/7 [==============================] - 0s 23ms/step - loss: 1800103.0000 - pearson: -0.9726 - mean_squared_error: 0.1281 - val_loss: 1689168.7500 - val_pearson: -0.9434 - val_mean_squared_error: 0.1179\n",
      "Epoch 73/2000\n",
      "7/7 [==============================] - 0s 26ms/step - loss: 1586598.6250 - pearson: -0.9625 - mean_squared_error: 0.1074 - val_loss: 1659032.2500 - val_pearson: -0.9501 - val_mean_squared_error: 0.1145\n",
      "Epoch 74/2000\n",
      "7/7 [==============================] - 0s 23ms/step - loss: 1625441.2500 - pearson: -0.9748 - mean_squared_error: 0.1126 - val_loss: 1660621.5000 - val_pearson: -0.9448 - val_mean_squared_error: 0.1178\n",
      "Epoch 75/2000\n",
      "7/7 [==============================] - 0s 26ms/step - loss: 1613951.3750 - pearson: -0.9664 - mean_squared_error: 0.1110 - val_loss: 1626743.5000 - val_pearson: -0.9448 - val_mean_squared_error: 0.1125\n"
     ]
    },
    {
     "name": "stdout",
     "output_type": "stream",
     "text": [
      "Epoch 76/2000\n",
      "7/7 [==============================] - 0s 23ms/step - loss: 1700606.8750 - pearson: -0.9709 - mean_squared_error: 0.1205 - val_loss: 1962701.6250 - val_pearson: -0.9395 - val_mean_squared_error: 0.1452\n",
      "Epoch 77/2000\n",
      "7/7 [==============================] - 0s 26ms/step - loss: 1601302.6250 - pearson: -0.9706 - mean_squared_error: 0.1103 - val_loss: 1525074.0000 - val_pearson: -0.9523 - val_mean_squared_error: 0.1031\n",
      "Epoch 78/2000\n",
      "7/7 [==============================] - 0s 23ms/step - loss: 1664192.8750 - pearson: -0.9776 - mean_squared_error: 0.1158 - val_loss: 1531997.7500 - val_pearson: -0.9473 - val_mean_squared_error: 0.1065\n",
      "Epoch 79/2000\n",
      "7/7 [==============================] - 0s 23ms/step - loss: 1583193.0000 - pearson: -0.9609 - mean_squared_error: 0.1097 - val_loss: 1881168.0000 - val_pearson: -0.9398 - val_mean_squared_error: 0.1440\n",
      "Epoch 80/2000\n",
      "7/7 [==============================] - 0s 23ms/step - loss: 1599108.6250 - pearson: -0.9621 - mean_squared_error: 0.1107 - val_loss: 1667342.6250 - val_pearson: -0.9498 - val_mean_squared_error: 0.1176\n",
      "Epoch 81/2000\n",
      "7/7 [==============================] - 0s 23ms/step - loss: 1598776.6250 - pearson: -0.9571 - mean_squared_error: 0.1117 - val_loss: 1654523.5000 - val_pearson: -0.9485 - val_mean_squared_error: 0.1153\n",
      "Epoch 82/2000\n",
      "7/7 [==============================] - 0s 22ms/step - loss: 1524625.5000 - pearson: -0.9696 - mean_squared_error: 0.1031 - val_loss: 1884350.5000 - val_pearson: -0.9428 - val_mean_squared_error: 0.1432\n",
      "Epoch 83/2000\n",
      "7/7 [==============================] - 0s 22ms/step - loss: 1658599.2500 - pearson: -0.9730 - mean_squared_error: 0.1184 - val_loss: 1697076.3750 - val_pearson: -0.9471 - val_mean_squared_error: 0.1229\n",
      "Epoch 84/2000\n",
      "7/7 [==============================] - 0s 22ms/step - loss: 1600006.5000 - pearson: -0.9650 - mean_squared_error: 0.1120 - val_loss: 1704562.2500 - val_pearson: -0.9457 - val_mean_squared_error: 0.1251\n",
      "Epoch 85/2000\n",
      "7/7 [==============================] - 0s 22ms/step - loss: 1428284.7500 - pearson: -0.9438 - mean_squared_error: 0.0959 - val_loss: 1640205.2500 - val_pearson: -0.9489 - val_mean_squared_error: 0.1170\n",
      "Epoch 86/2000\n",
      "7/7 [==============================] - 0s 22ms/step - loss: 1476690.3750 - pearson: -0.9682 - mean_squared_error: 0.1006 - val_loss: 1970679.2500 - val_pearson: -0.9425 - val_mean_squared_error: 0.1478\n",
      "Epoch 87/2000\n",
      "7/7 [==============================] - 0s 22ms/step - loss: 1395095.2500 - pearson: -0.9632 - mean_squared_error: 0.0940 - val_loss: 1863668.8750 - val_pearson: -0.9435 - val_mean_squared_error: 0.1393\n",
      "Epoch 88/2000\n",
      "7/7 [==============================] - 0s 22ms/step - loss: 1471979.8750 - pearson: -0.9573 - mean_squared_error: 0.1012 - val_loss: 1732829.2500 - val_pearson: -0.9481 - val_mean_squared_error: 0.1265\n",
      "Epoch 89/2000\n",
      "7/7 [==============================] - 0s 23ms/step - loss: 1401816.7500 - pearson: -0.9689 - mean_squared_error: 0.0942 - val_loss: 1843112.7500 - val_pearson: -0.9395 - val_mean_squared_error: 0.1377\n",
      "Epoch 90/2000\n",
      "7/7 [==============================] - 0s 22ms/step - loss: 1377237.0000 - pearson: -0.9642 - mean_squared_error: 0.0924 - val_loss: 2077554.3750 - val_pearson: -0.9471 - val_mean_squared_error: 0.1624\n",
      "Epoch 91/2000\n",
      "7/7 [==============================] - 0s 22ms/step - loss: 1528610.5000 - pearson: -0.9651 - mean_squared_error: 0.1068 - val_loss: 1885621.2500 - val_pearson: -0.9422 - val_mean_squared_error: 0.1412\n",
      "Epoch 92/2000\n",
      "7/7 [==============================] - 0s 23ms/step - loss: 1493350.1250 - pearson: -0.9701 - mean_squared_error: 0.1057 - val_loss: 2131070.5000 - val_pearson: -0.9390 - val_mean_squared_error: 0.1664\n",
      "Epoch 93/2000\n",
      "7/7 [==============================] - 0s 23ms/step - loss: 1529663.5000 - pearson: -0.9516 - mean_squared_error: 0.1071 - val_loss: 2416673.7500 - val_pearson: -0.9433 - val_mean_squared_error: 0.1932\n",
      "Epoch 94/2000\n",
      "7/7 [==============================] - 0s 22ms/step - loss: 1418347.6250 - pearson: -0.9750 - mean_squared_error: 0.0976 - val_loss: 2315125.7500 - val_pearson: -0.9366 - val_mean_squared_error: 0.1881\n",
      "Epoch 95/2000\n",
      "7/7 [==============================] - 0s 22ms/step - loss: 1524870.2500 - pearson: -0.9794 - mean_squared_error: 0.1087 - val_loss: 2575473.0000 - val_pearson: -0.9497 - val_mean_squared_error: 0.2166\n",
      "Epoch 96/2000\n",
      "7/7 [==============================] - 0s 22ms/step - loss: 1537770.7500 - pearson: -0.9693 - mean_squared_error: 0.1098 - val_loss: 2104706.5000 - val_pearson: -0.9444 - val_mean_squared_error: 0.1710\n",
      "Epoch 97/2000\n",
      "7/7 [==============================] - 0s 23ms/step - loss: 1496450.3750 - pearson: -0.9707 - mean_squared_error: 0.1046 - val_loss: 2385584.0000 - val_pearson: -0.9399 - val_mean_squared_error: 0.1924\n",
      "Epoch 98/2000\n",
      "7/7 [==============================] - 0s 22ms/step - loss: 1512531.3750 - pearson: -0.9682 - mean_squared_error: 0.1074 - val_loss: 2021479.5000 - val_pearson: -0.9435 - val_mean_squared_error: 0.1566\n",
      "Epoch 99/2000\n",
      "7/7 [==============================] - 0s 22ms/step - loss: 1576468.7500 - pearson: -0.9754 - mean_squared_error: 0.1143 - val_loss: 2345482.5000 - val_pearson: -0.9478 - val_mean_squared_error: 0.1887\n",
      "Epoch 100/2000\n",
      "7/7 [==============================] - 0s 23ms/step - loss: 1619066.0000 - pearson: -0.9698 - mean_squared_error: 0.1207 - val_loss: 2222265.2500 - val_pearson: -0.9426 - val_mean_squared_error: 0.1813\n",
      "Epoch 101/2000\n",
      "7/7 [==============================] - 0s 23ms/step - loss: 1602824.6250 - pearson: -0.9664 - mean_squared_error: 0.1163 - val_loss: 1855529.3750 - val_pearson: -0.9402 - val_mean_squared_error: 0.1471\n",
      "Epoch 102/2000\n",
      "7/7 [==============================] - 0s 23ms/step - loss: 1760401.1250 - pearson: -0.9705 - mean_squared_error: 0.1367 - val_loss: 2192169.5000 - val_pearson: -0.9369 - val_mean_squared_error: 0.1752\n",
      "Epoch 103/2000\n",
      "7/7 [==============================] - 0s 23ms/step - loss: 1668390.1250 - pearson: -0.9607 - mean_squared_error: 0.1230 - val_loss: 1470616.8750 - val_pearson: -0.9480 - val_mean_squared_error: 0.1035\n",
      "Epoch 104/2000\n",
      "7/7 [==============================] - 0s 23ms/step - loss: 1958293.8750 - pearson: -0.9560 - mean_squared_error: 0.1564 - val_loss: 1827751.7500 - val_pearson: -0.9404 - val_mean_squared_error: 0.1388\n",
      "Epoch 105/2000\n",
      "7/7 [==============================] - 0s 23ms/step - loss: 1711298.0000 - pearson: -0.9513 - mean_squared_error: 0.1299 - val_loss: 1646542.2500 - val_pearson: -0.9442 - val_mean_squared_error: 0.1254\n",
      "Epoch 106/2000\n",
      "7/7 [==============================] - 0s 23ms/step - loss: 2014184.8750 - pearson: -0.9674 - mean_squared_error: 0.1612 - val_loss: 2178749.5000 - val_pearson: -0.9425 - val_mean_squared_error: 0.1739\n",
      "Epoch 107/2000\n",
      "7/7 [==============================] - 0s 23ms/step - loss: 2019509.3750 - pearson: -0.9573 - mean_squared_error: 0.1611 - val_loss: 2822109.2500 - val_pearson: -0.9345 - val_mean_squared_error: 0.2411\n",
      "Epoch 108/2000\n",
      "7/7 [==============================] - 0s 23ms/step - loss: 2191260.7500 - pearson: -0.9613 - mean_squared_error: 0.1771 - val_loss: 3030586.0000 - val_pearson: -0.9312 - val_mean_squared_error: 0.2645\n",
      "Epoch 109/2000\n",
      "7/7 [==============================] - 0s 23ms/step - loss: 2232914.2500 - pearson: -0.9675 - mean_squared_error: 0.1826 - val_loss: 3007879.5000 - val_pearson: -0.9406 - val_mean_squared_error: 0.2608\n",
      "Epoch 110/2000\n",
      "7/7 [==============================] - 0s 24ms/step - loss: 2354152.0000 - pearson: -0.9605 - mean_squared_error: 0.1968 - val_loss: 3837643.0000 - val_pearson: -0.9204 - val_mean_squared_error: 0.3460\n",
      "Epoch 111/2000\n",
      "7/7 [==============================] - 0s 24ms/step - loss: 2671847.7500 - pearson: -0.9358 - mean_squared_error: 0.2261 - val_loss: 2479352.0000 - val_pearson: -0.9457 - val_mean_squared_error: 0.2043\n",
      "Epoch 112/2000\n",
      "7/7 [==============================] - 0s 23ms/step - loss: 2633527.2500 - pearson: -0.9558 - mean_squared_error: 0.2240 - val_loss: 2225842.2500 - val_pearson: -0.9346 - val_mean_squared_error: 0.1862\n",
      "Epoch 113/2000\n",
      "7/7 [==============================] - 0s 23ms/step - loss: 2379039.0000 - pearson: -0.9645 - mean_squared_error: 0.1985 - val_loss: 1728518.1250 - val_pearson: -0.9317 - val_mean_squared_error: 0.1328\n"
     ]
    },
    {
     "name": "stdout",
     "output_type": "stream",
     "text": [
      "Epoch 114/2000\n",
      "7/7 [==============================] - 0s 22ms/step - loss: 1926582.3750 - pearson: -0.9705 - mean_squared_error: 0.1524 - val_loss: 2494954.0000 - val_pearson: -0.9458 - val_mean_squared_error: 0.2106\n",
      "Epoch 115/2000\n",
      "7/7 [==============================] - 0s 23ms/step - loss: 1671576.7500 - pearson: -0.9590 - mean_squared_error: 0.1280 - val_loss: 2157866.5000 - val_pearson: -0.9303 - val_mean_squared_error: 0.1773\n",
      "Epoch 116/2000\n",
      "7/7 [==============================] - 0s 23ms/step - loss: 1533734.3750 - pearson: -0.9588 - mean_squared_error: 0.1143 - val_loss: 2592825.5000 - val_pearson: -0.9481 - val_mean_squared_error: 0.2192\n",
      "Epoch 117/2000\n",
      "7/7 [==============================] - 0s 24ms/step - loss: 1761492.5000 - pearson: -0.9719 - mean_squared_error: 0.1377 - val_loss: 2226041.5000 - val_pearson: -0.9351 - val_mean_squared_error: 0.1852\n",
      "Epoch 118/2000\n",
      "7/7 [==============================] - 0s 23ms/step - loss: 1489188.8750 - pearson: -0.9727 - mean_squared_error: 0.1106 - val_loss: 2401347.0000 - val_pearson: -0.9426 - val_mean_squared_error: 0.1992\n",
      "Epoch 119/2000\n",
      "7/7 [==============================] - 0s 22ms/step - loss: 1323498.6250 - pearson: -0.9653 - mean_squared_error: 0.0927 - val_loss: 1884883.7500 - val_pearson: -0.9405 - val_mean_squared_error: 0.1522\n",
      "Epoch 120/2000\n",
      "7/7 [==============================] - 0s 23ms/step - loss: 1346131.2500 - pearson: -0.9773 - mean_squared_error: 0.0953 - val_loss: 2008677.5000 - val_pearson: -0.9447 - val_mean_squared_error: 0.1636\n",
      "Epoch 121/2000\n",
      "7/7 [==============================] - 0s 22ms/step - loss: 1302931.6250 - pearson: -0.9751 - mean_squared_error: 0.0931 - val_loss: 1677952.5000 - val_pearson: -0.9410 - val_mean_squared_error: 0.1303\n",
      "Epoch 122/2000\n",
      "7/7 [==============================] - 0s 23ms/step - loss: 1181315.8750 - pearson: -0.9761 - mean_squared_error: 0.0808 - val_loss: 1561744.2500 - val_pearson: -0.9483 - val_mean_squared_error: 0.1163\n",
      "Epoch 123/2000\n",
      "7/7 [==============================] - 0s 22ms/step - loss: 1165748.8750 - pearson: -0.9821 - mean_squared_error: 0.0791 - val_loss: 1603859.3750 - val_pearson: -0.9429 - val_mean_squared_error: 0.1214\n",
      "Epoch 124/2000\n",
      "7/7 [==============================] - 0s 23ms/step - loss: 1154945.2500 - pearson: -0.9860 - mean_squared_error: 0.0787 - val_loss: 1706858.0000 - val_pearson: -0.9358 - val_mean_squared_error: 0.1333\n",
      "Epoch 125/2000\n",
      "7/7 [==============================] - 0s 23ms/step - loss: 1228637.7500 - pearson: -0.9772 - mean_squared_error: 0.0858 - val_loss: 1780448.2500 - val_pearson: -0.9380 - val_mean_squared_error: 0.1382\n",
      "Epoch 126/2000\n",
      "7/7 [==============================] - 0s 23ms/step - loss: 1187278.2500 - pearson: -0.9689 - mean_squared_error: 0.0821 - val_loss: 1686816.2500 - val_pearson: -0.9411 - val_mean_squared_error: 0.1314\n",
      "Epoch 127/2000\n",
      "7/7 [==============================] - 0s 23ms/step - loss: 1093352.7500 - pearson: -0.9815 - mean_squared_error: 0.0731 - val_loss: 1592895.2500 - val_pearson: -0.9480 - val_mean_squared_error: 0.1196\n",
      "Epoch 128/2000\n",
      "7/7 [==============================] - 0s 23ms/step - loss: 943607.3125 - pearson: -0.9796 - mean_squared_error: 0.0577 - val_loss: 1574779.0000 - val_pearson: -0.9432 - val_mean_squared_error: 0.1202\n",
      "Epoch 129/2000\n",
      "7/7 [==============================] - 0s 23ms/step - loss: 1074937.2500 - pearson: -0.9834 - mean_squared_error: 0.0711 - val_loss: 1685905.1250 - val_pearson: -0.9429 - val_mean_squared_error: 0.1328\n",
      "Epoch 130/2000\n",
      "7/7 [==============================] - 0s 24ms/step - loss: 1099081.5000 - pearson: -0.9815 - mean_squared_error: 0.0734 - val_loss: 1652219.1250 - val_pearson: -0.9437 - val_mean_squared_error: 0.1330\n",
      "Epoch 131/2000\n",
      "7/7 [==============================] - 0s 24ms/step - loss: 1065990.2500 - pearson: -0.9725 - mean_squared_error: 0.0699 - val_loss: 1567246.7500 - val_pearson: -0.9417 - val_mean_squared_error: 0.1215\n",
      "Epoch 132/2000\n",
      "7/7 [==============================] - 0s 24ms/step - loss: 1020040.7500 - pearson: -0.9628 - mean_squared_error: 0.0671 - val_loss: 1647018.0000 - val_pearson: -0.9517 - val_mean_squared_error: 0.1272\n",
      "Epoch 133/2000\n",
      "7/7 [==============================] - 0s 23ms/step - loss: 973594.5000 - pearson: -0.9711 - mean_squared_error: 0.0619 - val_loss: 1515201.6250 - val_pearson: -0.9460 - val_mean_squared_error: 0.1140\n",
      "Epoch 134/2000\n",
      "7/7 [==============================] - 0s 24ms/step - loss: 1015550.0625 - pearson: -0.9755 - mean_squared_error: 0.0664 - val_loss: 1829594.7500 - val_pearson: -0.9475 - val_mean_squared_error: 0.1474\n",
      "Epoch 135/2000\n",
      "7/7 [==============================] - 0s 25ms/step - loss: 963469.9375 - pearson: -0.9761 - mean_squared_error: 0.0609 - val_loss: 1668713.5000 - val_pearson: -0.9467 - val_mean_squared_error: 0.1331\n",
      "Epoch 136/2000\n",
      "7/7 [==============================] - 0s 25ms/step - loss: 1092517.6250 - pearson: -0.9748 - mean_squared_error: 0.0737 - val_loss: 1838992.2500 - val_pearson: -0.9473 - val_mean_squared_error: 0.1513\n",
      "Epoch 137/2000\n",
      "7/7 [==============================] - 0s 25ms/step - loss: 973596.6250 - pearson: -0.9841 - mean_squared_error: 0.0635 - val_loss: 1789637.8750 - val_pearson: -0.9428 - val_mean_squared_error: 0.1441\n",
      "Epoch 138/2000\n",
      "7/7 [==============================] - 0s 24ms/step - loss: 946947.8125 - pearson: -0.9747 - mean_squared_error: 0.0605 - val_loss: 1711288.5000 - val_pearson: -0.9445 - val_mean_squared_error: 0.1383\n",
      "Epoch 139/2000\n",
      "7/7 [==============================] - 0s 25ms/step - loss: 891672.8125 - pearson: -0.9752 - mean_squared_error: 0.0555 - val_loss: 1674390.0000 - val_pearson: -0.9474 - val_mean_squared_error: 0.1325\n",
      "Epoch 140/2000\n",
      "7/7 [==============================] - 0s 26ms/step - loss: 908174.8125 - pearson: -0.9825 - mean_squared_error: 0.0566 - val_loss: 1533950.0000 - val_pearson: -0.9481 - val_mean_squared_error: 0.1189\n",
      "Epoch 141/2000\n",
      "7/7 [==============================] - 0s 27ms/step - loss: 870345.4375 - pearson: -0.9899 - mean_squared_error: 0.0533 - val_loss: 1630394.8750 - val_pearson: -0.9540 - val_mean_squared_error: 0.1276\n",
      "Epoch 142/2000\n",
      "7/7 [==============================] - 0s 25ms/step - loss: 953172.9375 - pearson: -0.9806 - mean_squared_error: 0.0620 - val_loss: 1716531.3750 - val_pearson: -0.9489 - val_mean_squared_error: 0.1373\n",
      "Epoch 143/2000\n",
      "7/7 [==============================] - 0s 25ms/step - loss: 995473.5625 - pearson: -0.9755 - mean_squared_error: 0.0675 - val_loss: 1819959.5000 - val_pearson: -0.9447 - val_mean_squared_error: 0.1489\n",
      "Epoch 144/2000\n",
      "7/7 [==============================] - 0s 26ms/step - loss: 902439.7500 - pearson: -0.9834 - mean_squared_error: 0.0580 - val_loss: 1766134.0000 - val_pearson: -0.9490 - val_mean_squared_error: 0.1419\n",
      "Epoch 145/2000\n",
      "7/7 [==============================] - 0s 24ms/step - loss: 872338.4375 - pearson: -0.9722 - mean_squared_error: 0.0531 - val_loss: 1727179.3750 - val_pearson: -0.9478 - val_mean_squared_error: 0.1354\n",
      "Epoch 146/2000\n",
      "7/7 [==============================] - 0s 24ms/step - loss: 861611.8125 - pearson: -0.9906 - mean_squared_error: 0.0538 - val_loss: 1707498.3750 - val_pearson: -0.9502 - val_mean_squared_error: 0.1365\n",
      "Epoch 147/2000\n",
      "7/7 [==============================] - 0s 25ms/step - loss: 898108.6875 - pearson: -0.9843 - mean_squared_error: 0.0570 - val_loss: 1562601.6250 - val_pearson: -0.9484 - val_mean_squared_error: 0.1220\n",
      "Epoch 148/2000\n",
      "7/7 [==============================] - 0s 24ms/step - loss: 921412.6875 - pearson: -0.9864 - mean_squared_error: 0.0591 - val_loss: 1420055.0000 - val_pearson: -0.9493 - val_mean_squared_error: 0.1098\n",
      "Epoch 149/2000\n",
      "7/7 [==============================] - 0s 24ms/step - loss: 895033.1875 - pearson: -0.9859 - mean_squared_error: 0.0573 - val_loss: 1537525.5000 - val_pearson: -0.9472 - val_mean_squared_error: 0.1236\n",
      "Epoch 150/2000\n",
      "7/7 [==============================] - 0s 25ms/step - loss: 1073826.8750 - pearson: -0.9840 - mean_squared_error: 0.0753 - val_loss: 1678914.8750 - val_pearson: -0.9422 - val_mean_squared_error: 0.1369\n",
      "Epoch 151/2000\n",
      "7/7 [==============================] - 0s 25ms/step - loss: 1053211.6250 - pearson: -0.9771 - mean_squared_error: 0.0729 - val_loss: 1812747.1250 - val_pearson: -0.9371 - val_mean_squared_error: 0.1488\n"
     ]
    },
    {
     "name": "stdout",
     "output_type": "stream",
     "text": [
      "Epoch 152/2000\n",
      "7/7 [==============================] - 0s 24ms/step - loss: 887336.1250 - pearson: -0.9781 - mean_squared_error: 0.0583 - val_loss: 1478000.5000 - val_pearson: -0.9473 - val_mean_squared_error: 0.1142\n",
      "Epoch 153/2000\n",
      "7/7 [==============================] - 0s 23ms/step - loss: 816726.3750 - pearson: -0.9847 - mean_squared_error: 0.0495 - val_loss: 1486253.3750 - val_pearson: -0.9474 - val_mean_squared_error: 0.1146\n",
      "Epoch 154/2000\n",
      "7/7 [==============================] - 0s 24ms/step - loss: 913258.9375 - pearson: -0.9733 - mean_squared_error: 0.0608 - val_loss: 1611285.1250 - val_pearson: -0.9477 - val_mean_squared_error: 0.1290\n",
      "Epoch 155/2000\n",
      "7/7 [==============================] - 0s 24ms/step - loss: 966178.5000 - pearson: -0.9635 - mean_squared_error: 0.0653 - val_loss: 1370395.7500 - val_pearson: -0.9528 - val_mean_squared_error: 0.1059\n",
      "Epoch 156/2000\n",
      "7/7 [==============================] - 0s 23ms/step - loss: 1004175.0000 - pearson: -0.9848 - mean_squared_error: 0.0705 - val_loss: 1594770.6250 - val_pearson: -0.9430 - val_mean_squared_error: 0.1262\n",
      "Epoch 157/2000\n",
      "7/7 [==============================] - 0s 24ms/step - loss: 919286.0625 - pearson: -0.9836 - mean_squared_error: 0.0601 - val_loss: 1549881.2500 - val_pearson: -0.9461 - val_mean_squared_error: 0.1250\n",
      "Epoch 158/2000\n",
      "7/7 [==============================] - 0s 24ms/step - loss: 1021578.8125 - pearson: -0.9770 - mean_squared_error: 0.0726 - val_loss: 1610508.2500 - val_pearson: -0.9393 - val_mean_squared_error: 0.1301\n",
      "Epoch 159/2000\n",
      "7/7 [==============================] - 0s 24ms/step - loss: 966441.3750 - pearson: -0.9844 - mean_squared_error: 0.0658 - val_loss: 1722103.5000 - val_pearson: -0.9467 - val_mean_squared_error: 0.1408\n",
      "Epoch 160/2000\n",
      "7/7 [==============================] - 0s 24ms/step - loss: 1063945.3750 - pearson: -0.9836 - mean_squared_error: 0.0763 - val_loss: 1920565.2500 - val_pearson: -0.9421 - val_mean_squared_error: 0.1689\n",
      "Epoch 161/2000\n",
      "7/7 [==============================] - 0s 24ms/step - loss: 1072309.1250 - pearson: -0.9856 - mean_squared_error: 0.0761 - val_loss: 1733380.0000 - val_pearson: -0.9459 - val_mean_squared_error: 0.1433\n",
      "Epoch 162/2000\n",
      "7/7 [==============================] - 0s 25ms/step - loss: 1032316.6875 - pearson: -0.9769 - mean_squared_error: 0.0735 - val_loss: 1979524.8750 - val_pearson: -0.9479 - val_mean_squared_error: 0.1673\n",
      "Epoch 163/2000\n",
      "7/7 [==============================] - 0s 24ms/step - loss: 1230325.1250 - pearson: -0.9676 - mean_squared_error: 0.0934 - val_loss: 2379509.0000 - val_pearson: -0.9468 - val_mean_squared_error: 0.2092\n",
      "Epoch 164/2000\n",
      "7/7 [==============================] - 0s 24ms/step - loss: 1371238.7500 - pearson: -0.9716 - mean_squared_error: 0.1087 - val_loss: 2323869.7500 - val_pearson: -0.9423 - val_mean_squared_error: 0.2034\n",
      "Epoch 165/2000\n",
      "7/7 [==============================] - 0s 24ms/step - loss: 1461589.2500 - pearson: -0.9854 - mean_squared_error: 0.1180 - val_loss: 2458574.2500 - val_pearson: -0.9448 - val_mean_squared_error: 0.2156\n",
      "Epoch 166/2000\n",
      "7/7 [==============================] - 0s 24ms/step - loss: 1680004.8750 - pearson: -0.9819 - mean_squared_error: 0.1396 - val_loss: 2469754.0000 - val_pearson: -0.9450 - val_mean_squared_error: 0.2201\n",
      "Epoch 167/2000\n",
      "7/7 [==============================] - 0s 25ms/step - loss: 1755011.1250 - pearson: -0.9730 - mean_squared_error: 0.1469 - val_loss: 2139066.0000 - val_pearson: -0.9432 - val_mean_squared_error: 0.1855\n",
      "Epoch 168/2000\n",
      "7/7 [==============================] - 0s 24ms/step - loss: 1676727.7500 - pearson: -0.9867 - mean_squared_error: 0.1394 - val_loss: 1737258.8750 - val_pearson: -0.9438 - val_mean_squared_error: 0.1419\n",
      "Epoch 169/2000\n",
      "7/7 [==============================] - 0s 24ms/step - loss: 1734452.3750 - pearson: -0.9776 - mean_squared_error: 0.1444 - val_loss: 1557980.3750 - val_pearson: -0.9512 - val_mean_squared_error: 0.1250\n",
      "Epoch 170/2000\n",
      "7/7 [==============================] - 0s 25ms/step - loss: 1775971.0000 - pearson: -0.9738 - mean_squared_error: 0.1515 - val_loss: 1818302.7500 - val_pearson: -0.9436 - val_mean_squared_error: 0.1539\n",
      "Epoch 171/2000\n",
      "7/7 [==============================] - 0s 25ms/step - loss: 1791094.2500 - pearson: -0.9626 - mean_squared_error: 0.1503 - val_loss: 2808101.5000 - val_pearson: -0.9483 - val_mean_squared_error: 0.2519\n",
      "Epoch 172/2000\n",
      "7/7 [==============================] - 0s 26ms/step - loss: 1830378.3750 - pearson: -0.9792 - mean_squared_error: 0.1542 - val_loss: 3609286.2500 - val_pearson: -0.9459 - val_mean_squared_error: 0.3314\n",
      "Epoch 173/2000\n",
      "7/7 [==============================] - 0s 25ms/step - loss: 1952594.0000 - pearson: -0.9705 - mean_squared_error: 0.1673 - val_loss: 4849354.0000 - val_pearson: -0.9473 - val_mean_squared_error: 0.4573\n",
      "Epoch 174/2000\n",
      "7/7 [==============================] - 0s 25ms/step - loss: 2228719.7500 - pearson: -0.9812 - mean_squared_error: 0.1956 - val_loss: 4887465.5000 - val_pearson: -0.9457 - val_mean_squared_error: 0.4655\n",
      "Epoch 175/2000\n",
      "7/7 [==============================] - 0s 25ms/step - loss: 2194356.0000 - pearson: -0.9831 - mean_squared_error: 0.1929 - val_loss: 3634132.5000 - val_pearson: -0.9434 - val_mean_squared_error: 0.3345\n",
      "Epoch 176/2000\n",
      "7/7 [==============================] - 0s 25ms/step - loss: 1921170.3750 - pearson: -0.9827 - mean_squared_error: 0.1648 - val_loss: 2258066.2500 - val_pearson: -0.9467 - val_mean_squared_error: 0.1924\n",
      "Epoch 177/2000\n",
      "7/7 [==============================] - 0s 26ms/step - loss: 1526718.3750 - pearson: -0.9860 - mean_squared_error: 0.1247 - val_loss: 1990407.6250 - val_pearson: -0.9461 - val_mean_squared_error: 0.1723\n",
      "Epoch 178/2000\n",
      "7/7 [==============================] - 0s 25ms/step - loss: 1421153.6250 - pearson: -0.9788 - mean_squared_error: 0.1148 - val_loss: 1422641.7500 - val_pearson: -0.9464 - val_mean_squared_error: 0.1165\n",
      "Epoch 179/2000\n",
      "7/7 [==============================] - 0s 25ms/step - loss: 1083106.7500 - pearson: -0.9719 - mean_squared_error: 0.0812 - val_loss: 1588927.7500 - val_pearson: -0.9468 - val_mean_squared_error: 0.1350\n",
      "Epoch 180/2000\n",
      "7/7 [==============================] - 0s 25ms/step - loss: 1044712.4375 - pearson: -0.9771 - mean_squared_error: 0.0773 - val_loss: 1577270.0000 - val_pearson: -0.9453 - val_mean_squared_error: 0.1296\n",
      "Epoch 181/2000\n",
      "7/7 [==============================] - 0s 25ms/step - loss: 1021361.3125 - pearson: -0.9821 - mean_squared_error: 0.0752 - val_loss: 1626194.5000 - val_pearson: -0.9488 - val_mean_squared_error: 0.1342\n",
      "Epoch 182/2000\n",
      "7/7 [==============================] - 0s 25ms/step - loss: 909057.0000 - pearson: -0.9798 - mean_squared_error: 0.0635 - val_loss: 1389448.1250 - val_pearson: -0.9523 - val_mean_squared_error: 0.1129\n",
      "Epoch 183/2000\n",
      "7/7 [==============================] - 0s 26ms/step - loss: 845597.1250 - pearson: -0.9807 - mean_squared_error: 0.0589 - val_loss: 1513943.7500 - val_pearson: -0.9477 - val_mean_squared_error: 0.1252\n",
      "Epoch 184/2000\n",
      "7/7 [==============================] - 0s 26ms/step - loss: 860146.4375 - pearson: -0.9865 - mean_squared_error: 0.0601 - val_loss: 1549717.5000 - val_pearson: -0.9486 - val_mean_squared_error: 0.1290\n",
      "Epoch 185/2000\n",
      "7/7 [==============================] - 0s 26ms/step - loss: 880533.0625 - pearson: -0.9862 - mean_squared_error: 0.0614 - val_loss: 1494587.5000 - val_pearson: -0.9536 - val_mean_squared_error: 0.1210\n",
      "Epoch 186/2000\n",
      "7/7 [==============================] - 0s 26ms/step - loss: 829634.9375 - pearson: -0.9791 - mean_squared_error: 0.0569 - val_loss: 1634253.6250 - val_pearson: -0.9486 - val_mean_squared_error: 0.1375\n",
      "Epoch 187/2000\n",
      "7/7 [==============================] - 0s 26ms/step - loss: 799924.2500 - pearson: -0.9869 - mean_squared_error: 0.0533 - val_loss: 1734914.6250 - val_pearson: -0.9534 - val_mean_squared_error: 0.1464\n",
      "Epoch 188/2000\n",
      "7/7 [==============================] - 0s 26ms/step - loss: 755057.6875 - pearson: -0.9885 - mean_squared_error: 0.0498 - val_loss: 1520174.0000 - val_pearson: -0.9492 - val_mean_squared_error: 0.1263\n",
      "Epoch 189/2000\n",
      "7/7 [==============================] - 0s 26ms/step - loss: 823203.2500 - pearson: -0.9862 - mean_squared_error: 0.0567 - val_loss: 1398926.1250 - val_pearson: -0.9522 - val_mean_squared_error: 0.1138\n"
     ]
    },
    {
     "name": "stdout",
     "output_type": "stream",
     "text": [
      "Epoch 190/2000\n",
      "7/7 [==============================] - 0s 25ms/step - loss: 755282.1875 - pearson: -0.9764 - mean_squared_error: 0.0494 - val_loss: 1379702.3750 - val_pearson: -0.9500 - val_mean_squared_error: 0.1110\n",
      "Epoch 191/2000\n",
      "7/7 [==============================] - 0s 25ms/step - loss: 660199.8750 - pearson: -0.9884 - mean_squared_error: 0.0403 - val_loss: 1459585.1250 - val_pearson: -0.9538 - val_mean_squared_error: 0.1215\n",
      "Epoch 192/2000\n",
      "7/7 [==============================] - 0s 25ms/step - loss: 742028.6250 - pearson: -0.9805 - mean_squared_error: 0.0484 - val_loss: 1311136.0000 - val_pearson: -0.9532 - val_mean_squared_error: 0.1041\n",
      "Epoch 193/2000\n",
      "7/7 [==============================] - 0s 25ms/step - loss: 729229.6875 - pearson: -0.9857 - mean_squared_error: 0.0478 - val_loss: 1553056.2500 - val_pearson: -0.9499 - val_mean_squared_error: 0.1291\n",
      "Epoch 194/2000\n",
      "7/7 [==============================] - 0s 24ms/step - loss: 698706.8750 - pearson: -0.9877 - mean_squared_error: 0.0443 - val_loss: 1321824.6250 - val_pearson: -0.9501 - val_mean_squared_error: 0.1065\n",
      "Epoch 195/2000\n",
      "7/7 [==============================] - 0s 28ms/step - loss: 731325.4375 - pearson: -0.9847 - mean_squared_error: 0.0481 - val_loss: 1444486.5000 - val_pearson: -0.9543 - val_mean_squared_error: 0.1223\n",
      "Epoch 196/2000\n",
      "7/7 [==============================] - 0s 27ms/step - loss: 768195.3750 - pearson: -0.9848 - mean_squared_error: 0.0511 - val_loss: 1430964.8750 - val_pearson: -0.9509 - val_mean_squared_error: 0.1176\n",
      "Epoch 197/2000\n",
      "7/7 [==============================] - 0s 26ms/step - loss: 644356.8750 - pearson: -0.9857 - mean_squared_error: 0.0397 - val_loss: 1643497.5000 - val_pearson: -0.9478 - val_mean_squared_error: 0.1391\n",
      "Epoch 198/2000\n",
      "7/7 [==============================] - 0s 25ms/step - loss: 761270.3750 - pearson: -0.9789 - mean_squared_error: 0.0508 - val_loss: 1501712.5000 - val_pearson: -0.9462 - val_mean_squared_error: 0.1259\n",
      "Epoch 199/2000\n",
      "7/7 [==============================] - 0s 28ms/step - loss: 663343.5625 - pearson: -0.9847 - mean_squared_error: 0.0417 - val_loss: 1421542.5000 - val_pearson: -0.9545 - val_mean_squared_error: 0.1170\n",
      "Epoch 200/2000\n",
      "7/7 [==============================] - 0s 27ms/step - loss: 687935.1250 - pearson: -0.9811 - mean_squared_error: 0.0446 - val_loss: 1251556.7500 - val_pearson: -0.9565 - val_mean_squared_error: 0.0992\n",
      "Epoch 201/2000\n",
      "7/7 [==============================] - 0s 25ms/step - loss: 648752.3125 - pearson: -0.9856 - mean_squared_error: 0.0407 - val_loss: 1491317.1250 - val_pearson: -0.9490 - val_mean_squared_error: 0.1226\n",
      "Epoch 202/2000\n",
      "7/7 [==============================] - 0s 27ms/step - loss: 711841.1250 - pearson: -0.9847 - mean_squared_error: 0.0462 - val_loss: 1451113.0000 - val_pearson: -0.9490 - val_mean_squared_error: 0.1234\n",
      "Epoch 203/2000\n",
      "7/7 [==============================] - 0s 24ms/step - loss: 704007.8750 - pearson: -0.9818 - mean_squared_error: 0.0472 - val_loss: 1407421.3750 - val_pearson: -0.9471 - val_mean_squared_error: 0.1163\n",
      "Epoch 204/2000\n",
      "7/7 [==============================] - 0s 25ms/step - loss: 643593.1250 - pearson: -0.9896 - mean_squared_error: 0.0399 - val_loss: 1471866.5000 - val_pearson: -0.9526 - val_mean_squared_error: 0.1250\n",
      "Epoch 205/2000\n",
      "7/7 [==============================] - 0s 25ms/step - loss: 811705.1875 - pearson: -0.9744 - mean_squared_error: 0.0573 - val_loss: 1356747.5000 - val_pearson: -0.9483 - val_mean_squared_error: 0.1138\n",
      "Epoch 206/2000\n",
      "7/7 [==============================] - 0s 25ms/step - loss: 702749.5000 - pearson: -0.9904 - mean_squared_error: 0.0468 - val_loss: 1700888.8750 - val_pearson: -0.9505 - val_mean_squared_error: 0.1453\n",
      "Epoch 207/2000\n",
      "7/7 [==============================] - 0s 25ms/step - loss: 804615.1875 - pearson: -0.9880 - mean_squared_error: 0.0565 - val_loss: 1581130.2500 - val_pearson: -0.9469 - val_mean_squared_error: 0.1334\n",
      "Epoch 208/2000\n",
      "7/7 [==============================] - 0s 26ms/step - loss: 834834.8125 - pearson: -0.9840 - mean_squared_error: 0.0612 - val_loss: 1842122.1250 - val_pearson: -0.9508 - val_mean_squared_error: 0.1601\n",
      "Epoch 209/2000\n",
      "7/7 [==============================] - 0s 25ms/step - loss: 677745.7500 - pearson: -0.9913 - mean_squared_error: 0.0439 - val_loss: 1645298.1250 - val_pearson: -0.9482 - val_mean_squared_error: 0.1418\n",
      "Epoch 210/2000\n",
      "7/7 [==============================] - 0s 25ms/step - loss: 673064.9375 - pearson: -0.9758 - mean_squared_error: 0.0428 - val_loss: 1766744.5000 - val_pearson: -0.9505 - val_mean_squared_error: 0.1529\n",
      "Epoch 211/2000\n",
      "7/7 [==============================] - 0s 26ms/step - loss: 816945.5000 - pearson: -0.9828 - mean_squared_error: 0.0601 - val_loss: 1469204.7500 - val_pearson: -0.9520 - val_mean_squared_error: 0.1223\n",
      "Epoch 212/2000\n",
      "7/7 [==============================] - 0s 26ms/step - loss: 712208.0000 - pearson: -0.9758 - mean_squared_error: 0.0476 - val_loss: 1484313.5000 - val_pearson: -0.9517 - val_mean_squared_error: 0.1252\n",
      "Epoch 213/2000\n",
      "7/7 [==============================] - 0s 26ms/step - loss: 736044.6875 - pearson: -0.9821 - mean_squared_error: 0.0514 - val_loss: 1390225.8750 - val_pearson: -0.9550 - val_mean_squared_error: 0.1176\n",
      "Epoch 214/2000\n",
      "7/7 [==============================] - 0s 26ms/step - loss: 713853.1250 - pearson: -0.9838 - mean_squared_error: 0.0500 - val_loss: 1511017.2500 - val_pearson: -0.9545 - val_mean_squared_error: 0.1281\n",
      "Epoch 215/2000\n",
      "7/7 [==============================] - 0s 25ms/step - loss: 618207.4375 - pearson: -0.9851 - mean_squared_error: 0.0389 - val_loss: 1517799.6250 - val_pearson: -0.9506 - val_mean_squared_error: 0.1307\n",
      "Epoch 216/2000\n",
      "7/7 [==============================] - 0s 26ms/step - loss: 816802.0625 - pearson: -0.9886 - mean_squared_error: 0.0592 - val_loss: 1399920.3750 - val_pearson: -0.9497 - val_mean_squared_error: 0.1162\n",
      "Epoch 217/2000\n",
      "7/7 [==============================] - 0s 35ms/step - loss: 674868.1250 - pearson: -0.9802 - mean_squared_error: 0.0445 - val_loss: 1559679.2500 - val_pearson: -0.9480 - val_mean_squared_error: 0.1325\n",
      "Epoch 218/2000\n",
      "7/7 [==============================] - 0s 26ms/step - loss: 749473.1875 - pearson: -0.9902 - mean_squared_error: 0.0521 - val_loss: 1317947.3750 - val_pearson: -0.9481 - val_mean_squared_error: 0.1089\n",
      "Epoch 219/2000\n",
      "7/7 [==============================] - 0s 26ms/step - loss: 589288.6875 - pearson: -0.9868 - mean_squared_error: 0.0362 - val_loss: 1393703.5000 - val_pearson: -0.9535 - val_mean_squared_error: 0.1158\n",
      "Epoch 220/2000\n",
      "7/7 [==============================] - 0s 26ms/step - loss: 685647.3125 - pearson: -0.9778 - mean_squared_error: 0.0459 - val_loss: 1334336.0000 - val_pearson: -0.9487 - val_mean_squared_error: 0.1117\n",
      "Epoch 221/2000\n",
      "7/7 [==============================] - 0s 26ms/step - loss: 665827.0000 - pearson: -0.9840 - mean_squared_error: 0.0456 - val_loss: 1305361.0000 - val_pearson: -0.9526 - val_mean_squared_error: 0.1073\n",
      "Epoch 222/2000\n",
      "7/7 [==============================] - 0s 27ms/step - loss: 639309.1250 - pearson: -0.9875 - mean_squared_error: 0.0405 - val_loss: 1420790.8750 - val_pearson: -0.9505 - val_mean_squared_error: 0.1172\n",
      "Epoch 223/2000\n",
      "7/7 [==============================] - 0s 26ms/step - loss: 770308.0000 - pearson: -0.9901 - mean_squared_error: 0.0569 - val_loss: 1317671.5000 - val_pearson: -0.9494 - val_mean_squared_error: 0.1099\n",
      "Epoch 224/2000\n",
      "7/7 [==============================] - 0s 27ms/step - loss: 751387.5000 - pearson: -0.9847 - mean_squared_error: 0.0524 - val_loss: 1314911.1250 - val_pearson: -0.9536 - val_mean_squared_error: 0.1101\n",
      "Epoch 225/2000\n",
      "7/7 [==============================] - 0s 26ms/step - loss: 710004.7500 - pearson: -0.9712 - mean_squared_error: 0.0505 - val_loss: 1467448.0000 - val_pearson: -0.9523 - val_mean_squared_error: 0.1237\n",
      "Epoch 226/2000\n",
      "7/7 [==============================] - 0s 27ms/step - loss: 793409.8125 - pearson: -0.9874 - mean_squared_error: 0.0584 - val_loss: 1496934.2500 - val_pearson: -0.9518 - val_mean_squared_error: 0.1296\n",
      "Epoch 227/2000\n",
      "7/7 [==============================] - 0s 26ms/step - loss: 931543.0000 - pearson: -0.9810 - mean_squared_error: 0.0716 - val_loss: 1349329.0000 - val_pearson: -0.9508 - val_mean_squared_error: 0.1137\n"
     ]
    },
    {
     "name": "stdout",
     "output_type": "stream",
     "text": [
      "Epoch 228/2000\n",
      "7/7 [==============================] - 0s 26ms/step - loss: 752428.0625 - pearson: -0.9760 - mean_squared_error: 0.0540 - val_loss: 1503984.0000 - val_pearson: -0.9502 - val_mean_squared_error: 0.1296\n",
      "Epoch 229/2000\n",
      "7/7 [==============================] - 0s 26ms/step - loss: 747244.0625 - pearson: -0.9812 - mean_squared_error: 0.0532 - val_loss: 1538108.1250 - val_pearson: -0.9390 - val_mean_squared_error: 0.1351\n",
      "Epoch 230/2000\n",
      "7/7 [==============================] - 0s 25ms/step - loss: 768436.6250 - pearson: -0.9866 - mean_squared_error: 0.0575 - val_loss: 1521383.5000 - val_pearson: -0.9486 - val_mean_squared_error: 0.1312\n",
      "Epoch 231/2000\n",
      "7/7 [==============================] - 0s 25ms/step - loss: 814381.3750 - pearson: -0.9766 - mean_squared_error: 0.0606 - val_loss: 1357758.6250 - val_pearson: -0.9549 - val_mean_squared_error: 0.1154\n",
      "Epoch 232/2000\n",
      "7/7 [==============================] - 0s 26ms/step - loss: 877897.8125 - pearson: -0.9913 - mean_squared_error: 0.0668 - val_loss: 1411405.5000 - val_pearson: -0.9520 - val_mean_squared_error: 0.1203\n",
      "Epoch 233/2000\n",
      "7/7 [==============================] - 0s 26ms/step - loss: 872755.6250 - pearson: -0.9841 - mean_squared_error: 0.0676 - val_loss: 1415668.7500 - val_pearson: -0.9551 - val_mean_squared_error: 0.1219\n",
      "Epoch 234/2000\n",
      "7/7 [==============================] - 0s 25ms/step - loss: 802731.5625 - pearson: -0.9882 - mean_squared_error: 0.0602 - val_loss: 1328522.6250 - val_pearson: -0.9534 - val_mean_squared_error: 0.1141\n",
      "Epoch 235/2000\n",
      "7/7 [==============================] - 0s 26ms/step - loss: 801443.5625 - pearson: -0.9866 - mean_squared_error: 0.0599 - val_loss: 1341587.2500 - val_pearson: -0.9536 - val_mean_squared_error: 0.1144\n",
      "Epoch 236/2000\n",
      "7/7 [==============================] - 0s 28ms/step - loss: 884994.8125 - pearson: -0.9834 - mean_squared_error: 0.0683 - val_loss: 1319611.5000 - val_pearson: -0.9536 - val_mean_squared_error: 0.1101\n",
      "Epoch 237/2000\n",
      "7/7 [==============================] - 0s 30ms/step - loss: 850915.3750 - pearson: -0.9842 - mean_squared_error: 0.0652 - val_loss: 1699773.5000 - val_pearson: -0.9543 - val_mean_squared_error: 0.1483\n",
      "Epoch 238/2000\n",
      "7/7 [==============================] - 0s 27ms/step - loss: 900463.1250 - pearson: -0.9837 - mean_squared_error: 0.0701 - val_loss: 1632861.6250 - val_pearson: -0.9563 - val_mean_squared_error: 0.1415\n",
      "Epoch 239/2000\n",
      "7/7 [==============================] - 0s 27ms/step - loss: 905546.8125 - pearson: -0.9900 - mean_squared_error: 0.0712 - val_loss: 1865834.2500 - val_pearson: -0.9524 - val_mean_squared_error: 0.1690\n",
      "Epoch 240/2000\n",
      "7/7 [==============================] - 0s 28ms/step - loss: 848095.7500 - pearson: -0.9841 - mean_squared_error: 0.0656 - val_loss: 2192039.0000 - val_pearson: -0.9490 - val_mean_squared_error: 0.1997\n",
      "Epoch 241/2000\n",
      "7/7 [==============================] - 0s 29ms/step - loss: 883719.8125 - pearson: -0.9780 - mean_squared_error: 0.0690 - val_loss: 2303616.0000 - val_pearson: -0.9459 - val_mean_squared_error: 0.2152\n",
      "Epoch 242/2000\n",
      "7/7 [==============================] - 0s 26ms/step - loss: 1028462.3750 - pearson: -0.9812 - mean_squared_error: 0.0831 - val_loss: 3592366.0000 - val_pearson: -0.9497 - val_mean_squared_error: 0.3399\n",
      "Epoch 243/2000\n",
      "7/7 [==============================] - 0s 27ms/step - loss: 1272673.7500 - pearson: -0.9865 - mean_squared_error: 0.1071 - val_loss: 3327126.2500 - val_pearson: -0.9548 - val_mean_squared_error: 0.3111\n",
      "Epoch 244/2000\n",
      "7/7 [==============================] - 0s 28ms/step - loss: 1346593.2500 - pearson: -0.9852 - mean_squared_error: 0.1181 - val_loss: 3642578.2500 - val_pearson: -0.9485 - val_mean_squared_error: 0.3466\n",
      "Epoch 245/2000\n",
      "7/7 [==============================] - 0s 28ms/step - loss: 1256851.3750 - pearson: -0.9824 - mean_squared_error: 0.1061 - val_loss: 2947005.2500 - val_pearson: -0.9515 - val_mean_squared_error: 0.2736\n",
      "Epoch 246/2000\n",
      "7/7 [==============================] - 0s 28ms/step - loss: 1349113.1250 - pearson: -0.9862 - mean_squared_error: 0.1162 - val_loss: 2623582.5000 - val_pearson: -0.9492 - val_mean_squared_error: 0.2405\n",
      "Epoch 247/2000\n",
      "7/7 [==============================] - 0s 29ms/step - loss: 1177515.8750 - pearson: -0.9850 - mean_squared_error: 0.0980 - val_loss: 1836689.3750 - val_pearson: -0.9530 - val_mean_squared_error: 0.1639\n",
      "Epoch 248/2000\n",
      "7/7 [==============================] - 0s 26ms/step - loss: 1304192.2500 - pearson: -0.9832 - mean_squared_error: 0.1122 - val_loss: 1576695.1250 - val_pearson: -0.9498 - val_mean_squared_error: 0.1399\n",
      "Epoch 249/2000\n",
      "7/7 [==============================] - 0s 28ms/step - loss: 1238341.1250 - pearson: -0.9776 - mean_squared_error: 0.1052 - val_loss: 1292606.0000 - val_pearson: -0.9502 - val_mean_squared_error: 0.1108\n",
      "Epoch 250/2000\n",
      "7/7 [==============================] - 0s 28ms/step - loss: 1200336.1250 - pearson: -0.9845 - mean_squared_error: 0.1014 - val_loss: 1566581.7500 - val_pearson: -0.9405 - val_mean_squared_error: 0.1378\n",
      "Model training finished.\n",
      "Train Pearson: -0.992\n",
      "Train MSE: 0.035\n",
      "Evaluating model performance...\n",
      "Test Pearson: -0.946\n",
      "Test MSE: 0.13\n"
     ]
    }
   ],
   "source": [
    "mse_scale = 10000000\n",
    "pearson_scale = 100000\n",
    "loss = CustomLoss(mse_scale, pearson_scale)\n",
    "\n",
    "prob_bnn_model, history = run_experiment(best_params, \n",
    "                         features, \n",
    "                         loss,\n",
    "                         2000, \n",
    "                         train_dataset, \n",
    "                         test_dataset)"
   ]
  },
  {
   "cell_type": "markdown",
   "metadata": {},
   "source": [
    "### Plot the loss convergence"
   ]
  },
  {
   "cell_type": "code",
   "execution_count": 11,
   "metadata": {},
   "outputs": [
    {
     "data": {
      "image/png": "[encoded data removed]",
      "text/plain": [
       "<Figure size 432x288 with 1 Axes>"
      ]
     },
     "metadata": {
      "needs_background": "light"
     },
     "output_type": "display_data"
    }
   ],
   "source": [
    "plot_loss(history)"
   ]
  },
  {
   "cell_type": "markdown",
   "metadata": {},
   "source": [
    "### Get the test split of data"
   ]
  },
  {
   "cell_type": "code",
   "execution_count": 12,
   "metadata": {},
   "outputs": [],
   "source": [
    "# number of samples from test dataset\n",
    "test_sample_size = len(X_test)\n",
    "test_examples, test_targets = list(test_dataset.unbatch().shuffle(batchsize).batch(test_sample_size))[0]"
   ]
  },
  {
   "cell_type": "markdown",
   "metadata": {},
   "source": [
    "### Sample from the posterior for test predictions"
   ]
  },
  {
   "cell_type": "code",
   "execution_count": 13,
   "metadata": {},
   "outputs": [],
   "source": [
    "prediction_distribution = prob_bnn_model(test_examples)\n",
    "\n",
    "# number of samples from posterior\n",
    "n_samples = 10000\n",
    "\n",
    "df_predictions = np.zeros((n_samples, test_sample_size))\n",
    "samples = prediction_distribution.sample(n_samples).numpy()\n",
    "\n",
    "for idx in range(test_sample_size):\n",
    "    df_predictions[:, idx]= samples[:,idx,:].flatten()\n",
    "\n",
    "    \n",
    "df_predictions = y_test_scaler.inverse_transform(df_predictions)\n",
    "df = pd.DataFrame(df_predictions, columns=[i for i in range(test_sample_size)])"
   ]
  },
  {
   "cell_type": "markdown",
   "metadata": {},
   "source": [
    "### A look at the metrics from the test dataset"
   ]
  },
  {
   "cell_type": "code",
   "execution_count": 14,
   "metadata": {},
   "outputs": [],
   "source": [
    "y_pred = df.mean(axis=0).values\n",
    "stddev = df.std(axis=0).values\n",
    "\n",
    "# scale the target data back out\n",
    "y_true = y_test_scaler.inverse_transform(test_targets.numpy().reshape(-1,1)).flatten()\n",
    "# y_true = test_targets.numpy()"
   ]
  },
  {
   "cell_type": "code",
   "execution_count": 15,
   "metadata": {},
   "outputs": [],
   "source": [
    "df_analysis = pd.DataFrame({'y_true': y_true, 'y_pred': y_pred, 'stddev': stddev})\n",
    "df_analysis['lower'] = np.percentile(df_predictions, 2.5, axis=0)\n",
    "df_analysis['upper'] = np.percentile(df_predictions, 97.5, axis=0)\n",
    "df_analysis['percent_uncertain'] = (df_analysis['stddev'] / df_analysis['y_pred']) * 100\n",
    "df_analysis['difference'] = abs(df_analysis['y_true'] - df_analysis['y_pred'])\n",
    "df_analysis['percent_difference'] = (abs(df_analysis['y_true'] - df_analysis['y_pred']) /  df_analysis['y_pred']) * 100\n",
    "\n",
    "# df_analysis.sort_values('y_pred', inplace=True)\n",
    "df_analysis.reset_index(inplace=True)"
   ]
  },
  {
   "cell_type": "markdown",
   "metadata": {},
   "source": [
    "### Look at some regression metrics to determine the goodness of fit"
   ]
  },
  {
   "cell_type": "code",
   "execution_count": 16,
   "metadata": {},
   "outputs": [
    {
     "name": "stdout",
     "output_type": "stream",
     "text": [
      "R2: 0.8786277712615866\n",
      "MSE: 615808790.0343636\n",
      "MAE: 17239.218947074452\n",
      "pearson: 0.9484628793456386\n"
     ]
    }
   ],
   "source": [
    "mse = mean_squared_error(y_true, y_pred)\n",
    "mae = mean_absolute_error(y_true, y_pred)\n",
    "r2 = r2_score(y_true, y_pred)\n",
    "pearson = pearsonr(y_true, y_pred)[0]\n",
    "print(f'R2: {r2}')\n",
    "print(f'MSE: {mse}')\n",
    "print(f'MAE: {mae}')\n",
    "print(f'pearson: {pearson}')"
   ]
  },
  {
   "cell_type": "markdown",
   "metadata": {},
   "source": [
    "### Visualize the predictions vs true values"
   ]
  },
  {
   "cell_type": "code",
   "execution_count": 17,
   "metadata": {},
   "outputs": [
    {
     "data": {
      "text/plain": [
       "<seaborn.axisgrid.JointGrid at 0x7f9b54a0beb0>"
      ]
     },
     "execution_count": 17,
     "metadata": {},
     "output_type": "execute_result"
    },
    {
     "data": {
      "text/plain": [
       "<Figure size 864x648 with 0 Axes>"
      ]
     },
     "metadata": {},
     "output_type": "display_data"
    },
    {
     "data": {
      "image/png": "[encoded data removed]",
      "text/plain": [
       "<Figure size 432x432 with 3 Axes>"
      ]
     },
     "metadata": {
      "needs_background": "light"
     },
     "output_type": "display_data"
    }
   ],
   "source": [
    "plt.figure(figsize=(12,9))\n",
    "sns.jointplot(data=df_analysis, x='y_true', y='y_pred', kind='reg')"
   ]
  },
  {
   "cell_type": "markdown",
   "metadata": {},
   "source": [
    "### Take look at a few examples from the test set and their credible intervals"
   ]
  },
  {
   "cell_type": "code",
   "execution_count": 18,
   "metadata": {},
   "outputs": [
    {
     "data": {
      "text/plain": [
       "<matplotlib.legend.Legend at 0x7f9b54686be0>"
      ]
     },
     "execution_count": 18,
     "metadata": {},
     "output_type": "execute_result"
    },
    {
     "data": {
      "image/png": "[encoded data removed]",
      "text/plain": [
       "<Figure size 864x648 with 1 Axes>"
      ]
     },
     "metadata": {
      "needs_background": "light"
     },
     "output_type": "display_data"
    }
   ],
   "source": [
    "# plot parameters\n",
    "n_checks = 40\n",
    "x = np.arange(n_checks)\n",
    "hline_left = x - .3\n",
    "hline_right = x + .3\n",
    "\n",
    "means = df_analysis.loc[:n_checks-1, 'y_pred']\n",
    "uppers = df_analysis.loc[:n_checks-1, 'upper']\n",
    "lowers = df_analysis.loc[:n_checks-1, 'lower']\n",
    "trues = df_analysis.loc[:n_checks-1, 'y_true']\n",
    "\n",
    "plt.figure(figsize=(12,9))\n",
    "plt.vlines(x, ymin=lowers, ymax=uppers, color='blue')\n",
    "plt.hlines(uppers, xmin=hline_left, xmax=hline_right, color='blue')\n",
    "plt.hlines(lowers, xmin=hline_left, xmax=hline_right, color='blue')\n",
    "plt.plot(x, means, 'o', color='red', label='predicted')\n",
    "plt.plot(x, trues, 'o', color='black', label='true')\n",
    "plt.xticks(range(0, n_checks, 10))\n",
    "plt.xlabel('Test Set Indices')\n",
    "plt.title('Prediction 95% Credible Intervals')\n",
    "plt.legend()"
   ]
  },
  {
   "cell_type": "markdown",
   "metadata": {},
   "source": [
    "The model is fairly confident in these predictions, but there are a lot of true values outside the credible intervals."
   ]
  },
  {
   "cell_type": "markdown",
   "metadata": {},
   "source": [
    "### Let's look at the scatter plot of predicted target values and standard devations."
   ]
  },
  {
   "cell_type": "code",
   "execution_count": 19,
   "metadata": {},
   "outputs": [
    {
     "data": {
      "text/plain": [
       "<seaborn.axisgrid.JointGrid at 0x7f9b54794a90>"
      ]
     },
     "execution_count": 19,
     "metadata": {},
     "output_type": "execute_result"
    },
    {
     "data": {
      "text/plain": [
       "<Figure size 864x648 with 0 Axes>"
      ]
     },
     "metadata": {},
     "output_type": "display_data"
    },
    {
     "data": {
      "image/png": "[encoded data removed]",
      "text/plain": [
       "<Figure size 432x432 with 3 Axes>"
      ]
     },
     "metadata": {
      "needs_background": "light"
     },
     "output_type": "display_data"
    }
   ],
   "source": [
    "plt.figure(figsize=(12,9))\n",
    "sns.jointplot(data=df_analysis, x='y_pred', y='stddev', kind='scatter')"
   ]
  },
  {
   "cell_type": "markdown",
   "metadata": {},
   "source": [
    "Notice the positive correlation. The model is more uncertain about higher house price since there aren't many examples in that range. "
   ]
  },
  {
   "cell_type": "markdown",
   "metadata": {},
   "source": [
    "### Histogram of difference and uncertainty as a percent of predictions' values"
   ]
  },
  {
   "cell_type": "code",
   "execution_count": 20,
   "metadata": {},
   "outputs": [
    {
     "data": {
      "text/plain": [
       "<AxesSubplot:xlabel='percent_uncertain', ylabel='Count'>"
      ]
     },
     "execution_count": 20,
     "metadata": {},
     "output_type": "execute_result"
    },
    {
     "data": {
      "image/png": "[encoded data removed]",
      "text/plain": [
       "<Figure size 864x648 with 2 Axes>"
      ]
     },
     "metadata": {
      "needs_background": "light"
     },
     "output_type": "display_data"
    }
   ],
   "source": [
    "fig, (ax1, ax2) = plt.subplots(1, 2, figsize=(12,9))\n",
    "sns.histplot(data=df_analysis, x='percent_difference', ax=ax1)\n",
    "sns.histplot(data=df_analysis, x='percent_uncertain', ax=ax2)"
   ]
  },
  {
   "cell_type": "markdown",
   "metadata": {},
   "source": [
    "The percent differences are an order of magnitude larger than the percent uncertanties. Perhaps some feature engineering can bring these two quantities in line. "
   ]
  },
  {
   "cell_type": "markdown",
   "metadata": {},
   "source": [
    "### Now using the helper function \"load_saved_model\", load in the saved model from training."
   ]
  },
  {
   "cell_type": "code",
   "execution_count": 21,
   "metadata": {},
   "outputs": [],
   "source": [
    "model_loc = 'best-iowa-housing-price-model.h5'\n",
    "loaded_model = load_saved_model(best_params, model_loc, features, loss)"
   ]
  },
  {
   "cell_type": "markdown",
   "metadata": {},
   "source": [
    "### Get some new samples"
   ]
  },
  {
   "cell_type": "code",
   "execution_count": 22,
   "metadata": {},
   "outputs": [],
   "source": [
    "prediction_distribution = loaded_model(test_examples)\n",
    "n_samples = 10000\n",
    "df = np.zeros((n_samples, test_sample_size))\n",
    "samples = prediction_distribution.sample(n_samples).numpy()\n",
    "\n",
    "for idx in range(test_sample_size):\n",
    "    df[:, idx]= samples[:,idx,:].flatten()\n",
    "\n",
    "df = pd.DataFrame(df, columns=[i for i in range(test_sample_size)])\n",
    "y_pred2 = y_test_scaler.inverse_transform(df.mean(axis=0).values.reshape(-1,1)).flatten()"
   ]
  },
  {
   "cell_type": "markdown",
   "metadata": {},
   "source": [
    "### See the new predictions' metrics."
   ]
  },
  {
   "cell_type": "code",
   "execution_count": 23,
   "metadata": {},
   "outputs": [
    {
     "name": "stdout",
     "output_type": "stream",
     "text": [
      "R2: 0.8902745572463503\n",
      "MSE: 556716250.8298285\n",
      "MAE: 16045.059006835238\n",
      "pearson: 0.9506153818086533\n"
     ]
    }
   ],
   "source": [
    "mse = mean_squared_error(y_true, y_pred2)\n",
    "mae = mean_absolute_error(y_true, y_pred2)\n",
    "r2 = r2_score(y_true, y_pred2)\n",
    "pearson = pearsonr(y_true, y_pred2)[0]\n",
    "print(f'R2: {r2}')\n",
    "print(f'MSE: {mse}')\n",
    "print(f'MAE: {mae}')\n",
    "print(f'pearson: {pearson}')"
   ]
  },
  {
   "cell_type": "markdown",
   "metadata": {},
   "source": [
    "### This is the same model, but notice the scores are different because our model is stochastic. Hence our samples are not the same samples we generated earlier. "
   ]
  },
  {
   "cell_type": "code",
   "execution_count": null,
   "metadata": {},
   "outputs": [],
   "source": []
  }
 ],
 "metadata": {
  "kernelspec": {
   "display_name": "Python 3 (ipykernel)",
   "language": "python",
   "name": "python3"
  },
  "language_info": {
   "codemirror_mode": {
    "name": "ipython",
    "version": 3
   },
   "file_extension": ".py",
   "mimetype": "text/x-python",
   "name": "python",
   "nbconvert_exporter": "python",
   "pygments_lexer": "ipython3",
   "version": "3.9.12"
  }
 },
 "nbformat": 4,
 "nbformat_minor": 2
}
